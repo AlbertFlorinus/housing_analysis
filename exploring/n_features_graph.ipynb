{
 "cells": [
  {
   "cell_type": "code",
   "execution_count": 1,
   "id": "0c9db286",
   "metadata": {},
   "outputs": [],
   "source": [
    "%matplotlib inline\n",
    "import matplotlib.pyplot as plt\n",
    "import pandas as pd\n",
    "import numpy as np\n",
    "import math\n",
    "from scipy import stats\n",
    "from sklearn.decomposition import PCA\n",
    "import random\n",
    "\n",
    "from mpl_toolkits.mplot3d import *\n",
    "import ipywidgets as widgets\n",
    "from ipywidgets import interact, interactive, Dropdown\n",
    "import matplotlib.animation as animation\n",
    "from IPython.display import HTML"
   ]
  },
  {
   "cell_type": "code",
   "execution_count": 2,
   "id": "36349c12",
   "metadata": {},
   "outputs": [],
   "source": [
    "#preprocessing and import\n",
    "df = pd.read_csv('/Users/albert/Documents/GitHub/housing_analysis/house-data/train.csv')\n",
    "df = df[ df.select_dtypes(include=np.number).columns.tolist()]\n",
    "df.dropna(inplace=True)"
   ]
  },
  {
   "cell_type": "code",
   "execution_count": 3,
   "id": "a5f8b211",
   "metadata": {},
   "outputs": [],
   "source": [
    "def pca_dec(data, n):\n",
    "  pca = PCA(n)\n",
    "  X_dec = pca.fit_transform(data)\n",
    "  return X_dec, pca\n",
    "\n",
    "#Decomposing the train set:\n",
    "pca_train_results, pca_train = pca_dec(df, 10)\n",
    "\n",
    "#Creating a table with the explained variance ratio\n",
    "names_pcas = [f\"PCA Component {i}\" for i in range(1, 11, 1)]\n",
    "scree = pd.DataFrame(list(zip(names_pcas, pca_train.explained_variance_ratio_)), columns=[\"Component\", \"Explained Variance Ratio\"])\n",
    "\n",
    "df_new = pd.DataFrame({'PCA':pca_train.components_[0], 'Variable Names':list(df.columns)})\n",
    "df_new = df_new.sort_values('PCA', ascending=False)"
   ]
  },
  {
   "cell_type": "code",
   "execution_count": 4,
   "id": "04d92653",
   "metadata": {},
   "outputs": [
    {
     "data": {
      "text/html": [
       "<div>\n",
       "<style scoped>\n",
       "    .dataframe tbody tr th:only-of-type {\n",
       "        vertical-align: middle;\n",
       "    }\n",
       "\n",
       "    .dataframe tbody tr th {\n",
       "        vertical-align: top;\n",
       "    }\n",
       "\n",
       "    .dataframe thead th {\n",
       "        text-align: right;\n",
       "    }\n",
       "</style>\n",
       "<table border=\"1\" class=\"dataframe\">\n",
       "  <thead>\n",
       "    <tr style=\"text-align: right;\">\n",
       "      <th></th>\n",
       "      <th>PCA</th>\n",
       "      <th>Variable Names</th>\n",
       "    </tr>\n",
       "  </thead>\n",
       "  <tbody>\n",
       "    <tr>\n",
       "      <th>37</th>\n",
       "      <td>0.999535</td>\n",
       "      <td>SalePrice</td>\n",
       "    </tr>\n",
       "    <tr>\n",
       "      <th>3</th>\n",
       "      <td>0.029625</td>\n",
       "      <td>LotArea</td>\n",
       "    </tr>\n",
       "    <tr>\n",
       "      <th>16</th>\n",
       "      <td>0.004449</td>\n",
       "      <td>GrLivArea</td>\n",
       "    </tr>\n",
       "    <tr>\n",
       "      <th>12</th>\n",
       "      <td>0.003306</td>\n",
       "      <td>TotalBsmtSF</td>\n",
       "    </tr>\n",
       "    <tr>\n",
       "      <th>13</th>\n",
       "      <td>0.002830</td>\n",
       "      <td>1stFlrSF</td>\n",
       "    </tr>\n",
       "  </tbody>\n",
       "</table>\n",
       "</div>"
      ],
      "text/plain": [
       "         PCA Variable Names\n",
       "37  0.999535      SalePrice\n",
       "3   0.029625        LotArea\n",
       "16  0.004449      GrLivArea\n",
       "12  0.003306    TotalBsmtSF\n",
       "13  0.002830       1stFlrSF"
      ]
     },
     "execution_count": 4,
     "metadata": {},
     "output_type": "execute_result"
    }
   ],
   "source": [
    "#Sorting the absolute values of the first principal component by magnitude\n",
    "df2 = pd.DataFrame(df_new)\n",
    "df2['PCA']=df2['PCA'].apply(np.absolute)\n",
    "df2 = df2.sort_values('PCA', ascending=False)\n",
    "df_new.head()"
   ]
  },
  {
   "cell_type": "code",
   "execution_count": 5,
   "id": "16fe1dfc",
   "metadata": {},
   "outputs": [],
   "source": [
    "def regress(degree, attribute):\n",
    "    measured = df[\"SalePrice\"]\n",
    "    model = {}\n",
    "    xp = np.linspace(1, df[attribute].max()+df[attribute].mean()/4, 20)\n",
    "    \n",
    "    data_reg = np.polyfit(df[attribute], df[\"SalePrice\"], degree)\n",
    "    predicted = np.polyval(data_reg, df[attribute].tolist())\n",
    "    \n",
    "    if degree == 1:\n",
    "        #use pearson\n",
    "        model[attribute] = [data_reg, predicted, stats.pearsonr(predicted, measured)[0], attribute]\n",
    "    \n",
    "    elif degree == 2:\n",
    "        #use spearman\n",
    "        model[attribute] = [data_reg, predicted, stats.spearmanr(predicted, measured)[0], attribute]\n",
    "        \n",
    "    return model"
   ]
  },
  {
   "cell_type": "code",
   "execution_count": 6,
   "id": "e57fde57",
   "metadata": {},
   "outputs": [],
   "source": [
    "def mean_correlation(feature_collection:dict):\n",
    "    #pc_info = {feature_name: [degree, correlation] for feature_name in features}\n",
    "    n = len(feature_collection)\n",
    "    avg_correlation = sum( np.array( list(feature_collection.values()) )[:,1] )/n\n",
    "    return avg_correlation"
   ]
  },
  {
   "cell_type": "code",
   "execution_count": 7,
   "id": "61614592",
   "metadata": {},
   "outputs": [],
   "source": [
    "def factor_test(degree:int, features:list):\n",
    "    #feature_collection = {i:[] for i in features}\n",
    "    \n",
    "    feature_collection = {i:[degree, regress(degree, i)[i][2]] for i in features}\n",
    "    return mean_correlation(feature_collection)"
   ]
  },
  {
   "cell_type": "code",
   "execution_count": 9,
   "id": "ff4be07c",
   "metadata": {},
   "outputs": [
    {
     "name": "stdout",
     "output_type": "stream",
     "text": [
      "0.30015359430892746\n"
     ]
    }
   ],
   "source": [
    "count = 0\n",
    "n = 100\n",
    "rank = 1\n",
    "for i in range(n):\n",
    "    features = [random.choice(df.keys()) for i in range(3)]\n",
    "    count += factor_test(rank, features)\n",
    "    \n",
    "avg_c = count/n\n",
    "print(avg_c)"
   ]
  },
  {
   "cell_type": "code",
   "execution_count": 25,
   "id": "9936da63",
   "metadata": {},
   "outputs": [],
   "source": [
    "#list of features ordered by PCA rank, first element(salesprice removed)\n",
    "PCA_features = df_new[\"Variable Names\"].tolist()[1:]"
   ]
  },
  {
   "cell_type": "code",
   "execution_count": 28,
   "id": "e723df81",
   "metadata": {},
   "outputs": [],
   "source": [
    "n_used = [i for i in range(1,len(df.keys())+1)]\n",
    "\n",
    "n_corr = []\n",
    "\n",
    "for n in n_used:\n",
    "    n_corr.append( factor_test(1, PCA_features[:n]) )"
   ]
  },
  {
   "cell_type": "code",
   "execution_count": 34,
   "id": "36bf21b2",
   "metadata": {},
   "outputs": [],
   "source": [
    "n_ran_used = [i for i in range(1, len(df.keys())+1)]\n",
    "n_ran_corr = []\n",
    "\n",
    "for n in n_ran_used:\n",
    "    count = 0\n",
    "    m = 100\n",
    "    rank = 1\n",
    "    for i in range(m):\n",
    "        features = [random.choice(df.keys()) for i in range(n)]\n",
    "        count += factor_test(rank, features)\n",
    "\n",
    "    avg_c = count/m\n",
    "    n_ran_corr.append(avg_c)"
   ]
  },
  {
   "cell_type": "code",
   "execution_count": 35,
   "id": "bf3dfd9a",
   "metadata": {},
   "outputs": [
    {
     "data": {
      "image/png": "[encoded data removed]",
      "text/plain": [
       "<Figure size 648x360 with 1 Axes>"
      ]
     },
     "metadata": {
      "needs_background": "light"
     },
     "output_type": "display_data"
    }
   ],
   "source": [
    "fig = plt.figure(figsize=(9,5))\n",
    "ax = fig.add_subplot()\n",
    "#plotting functions with the label parameter.\n",
    "ax.plot(n_used, n_corr, color=\"green\", label=\"mean_correlation(n)\")\n",
    "ax.plot(n_ran_used, n_ran_corr, color = \"blue\", label=\"mean_correlation(n_random)\")\n",
    "ax.set_xlabel(\"n features\")\n",
    "ax.set_ylabel(\"Mean correlation\")\n",
    "ax.set_title(\"Mean correlation of lin reg by amount of PCA features used\")\n",
    "#renders legends in the plot\n",
    "ax.legend() \n",
    "ax.grid()"
   ]
  },
  {
   "cell_type": "code",
   "execution_count": null,
   "id": "c8221bf8",
   "metadata": {},
   "outputs": [],
   "source": [
    "fig = plt.figure(figsize=(14,9))\n",
    "ax = plt.axes()\n",
    "plt.scatter(df[attribute], df[\"SalePrice\"], label = f\"degree : correlation\", color=\"black\")\n",
    "for i in range(1, rank+1):\n",
    "    ax.plot(xp, np.polyval(model[i][0], xp), label = f\"{i} : {round(model[i][2], 5)}\", color = COLORS[i-1] )\n",
    "    \n",
    "ax.set_ylim(bottom=0, top = df[\"SalePrice\"].max()+df[\"SalePrice\"].mean()/4)\n",
    "ax.set_xlim(0, df[attribute].max()+df[attribute].mean()/4)\n",
    "ax.set_title(\"\")\n",
    "ax.set_title(f\"SalePrice vs {attribute}\")\n",
    "ax.set_xlabel(f\"{attribute}\")\n",
    "ax.set_ylabel(\"SalePrice\")\n",
    "ax.grid()\n",
    "ax.legend()"
   ]
  },
  {
   "cell_type": "code",
   "execution_count": null,
   "id": "7b2b8806",
   "metadata": {},
   "outputs": [],
   "source": [
    "fig = plt.figure(figsize=(14,9))\n",
    "ax = plt.axes()\n",
    "#plt.scatter(df[attribute], df[\"SalePrice\"], label = f\"degree : correlation\", color=\"black\")\n",
    "for i in range(1, rank+1):\n",
    "    ax.plot(xp, np.polyval(model[i][0], xp), label = f\"{i} : {round(model[i][2], 5)}\", color = COLORS[i-1] )\n",
    "    \n",
    "ax.set_ylim(bottom=0, top = df[\"SalePrice\"].max()+df[\"SalePrice\"].mean()/4)\n",
    "ax.set_xlim(0, df[attribute].max()+df[attribute].mean()/4)\n",
    "ax.set_title(\"\")\n",
    "ax.set_title(f\"SalePrice vs {attribute}\")\n",
    "ax.set_xlabel(f\"{attribute}\")\n",
    "ax.set_ylabel(\"SalePrice\")\n",
    "ax.grid()\n",
    "ax.legend()"
   ]
  },
  {
   "cell_type": "code",
   "execution_count": null,
   "id": "790265ec",
   "metadata": {},
   "outputs": [],
   "source": [
    "# identifiers for top 3 features\n",
    "PCA_features = df_new[\"Variable Names\"].tolist()[1:4]\n",
    "\n",
    "# identifiers for top 10 features\n",
    "PCA_features_top10 = df_new[\"Variable Names\"].tolist()[1:11]\n",
    "\n",
    "# identifiers for top 20 features\n",
    "PCA_features_top20 = df_new[\"Variable Names\"].tolist()[1:21]"
   ]
  },
  {
   "cell_type": "code",
   "execution_count": 11,
   "id": "d6fe6a76",
   "metadata": {},
   "outputs": [
    {
     "data": {
      "application/vnd.jupyter.widget-view+json": {
       "model_id": "5009961010104b018290944fa960a661",
       "version_major": 2,
       "version_minor": 0
      },
      "text/plain": [
       "interactive(children=(IntSlider(value=3, description='rank', max=6, min=1), Dropdown(description='attribute', …"
      ]
     },
     "metadata": {},
     "output_type": "display_data"
    }
   ],
   "source": [
    "#interactive plotter\n",
    "attribute = Dropdown(options = df.keys())\n",
    "@interact(rank = (1, 6), attribute = attribute)\n",
    "def g(rank, attribute):\n",
    "    measured = df[\"SalePrice\"]\n",
    "    COLORS = [\"red\", \"blue\", \"green\", \"orange\", \"yellow\", \"gray\", \"cyan\", \"purple\"]\n",
    "    model = {}\n",
    "    xp = np.linspace(1, df[attribute].max()+df[attribute].mean()/4, 20)\n",
    "    for i in range(1, rank+1):\n",
    "        data_reg = np.polyfit(df[attribute], df[\"SalePrice\"], i)\n",
    "        predicted = np.polyval(data_reg, df[attribute].tolist())\n",
    "        if i == 1:\n",
    "            model[i] = [data_reg,\n",
    "                             predicted,\n",
    "                             stats.pearsonr(predicted, measured)[0]]\n",
    "        \n",
    "        \n",
    "        elif i > 1:\n",
    "            model[i] = [data_reg,\n",
    "                             predicted,\n",
    "                             stats.spearmanr(predicted, measured)[0]]\n",
    "    \n",
    "    fig = plt.figure(figsize=(14,9))\n",
    "    ax = plt.axes()\n",
    "    plt.scatter(df[attribute], df[\"SalePrice\"], label = f\"degree : correlation\", color=\"black\")\n",
    "    for i in range(1, rank+1):\n",
    "        ax.plot(xp, np.polyval(model[i][0], xp), label = f\"{i} : {round(model[i][2], 5)}\", color = COLORS[i-1] )\n",
    "    \n",
    "    ax.set_ylim(bottom=0, top = df[\"SalePrice\"].max()+df[\"SalePrice\"].mean()/4)\n",
    "    ax.set_xlim(0, df[attribute].max()+df[attribute].mean()/4)\n",
    "    ax.set_title(\"\")\n",
    "    ax.set_title(f\"SalePrice vs {attribute}\")\n",
    "    ax.set_xlabel(f\"{attribute}\")\n",
    "    ax.set_ylabel(\"SalePrice\")\n",
    "    ax.grid()\n",
    "    ax.legend()"
   ]
  },
  {
   "cell_type": "code",
   "execution_count": null,
   "id": "b1863506",
   "metadata": {},
   "outputs": [],
   "source": []
  }
 ],
 "metadata": {
  "kernelspec": {
   "display_name": "Python 3 (ipykernel)",
   "language": "python",
   "name": "python3"
  },
  "language_info": {
   "codemirror_mode": {
    "name": "ipython",
    "version": 3
   },
   "file_extension": ".py",
   "mimetype": "text/x-python",
   "name": "python",
   "nbconvert_exporter": "python",
   "pygments_lexer": "ipython3",
   "version": "3.10.0"
  }
 },
 "nbformat": 4,
 "nbformat_minor": 5
}
