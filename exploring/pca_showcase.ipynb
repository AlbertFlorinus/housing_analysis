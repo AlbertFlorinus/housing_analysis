{
 "cells": [
  {
   "cell_type": "code",
   "execution_count": 1,
   "id": "147d11eb",
   "metadata": {},
   "outputs": [],
   "source": [
    "%matplotlib inline\n",
    "import re\n",
    "import pandas as pd\n",
    "from matplotlib import pyplot\n",
    "import numpy as np \n",
    "import matplotlib.pyplot as plt \n",
    "import seaborn as sns\n",
    "import os\n",
    "import sys"
   ]
  },
  {
   "cell_type": "code",
   "execution_count": 2,
   "id": "496f9201",
   "metadata": {},
   "outputs": [],
   "source": [
    "sns.set()\n",
    "\n",
    "#load the data from my drive \n",
    "#df_train = pd.read_csv('/Users/albert/Documents/GitHub/housing_analysis/house-data/train.csv')"
   ]
  },
  {
   "cell_type": "code",
   "execution_count": 3,
   "id": "749dedc0",
   "metadata": {},
   "outputs": [],
   "source": [
    "g1 = [10,11,8,3,2,1]\n",
    "g2 = [6,4,5,3,2.8,1]\n",
    "g3 = [12,9,10,2.5,1.3,2]"
   ]
  },
  {
   "cell_type": "code",
   "execution_count": 4,
   "id": "db17bf5d",
   "metadata": {},
   "outputs": [],
   "source": [
    "df_train = pd.DataFrame()\n",
    "df_train[\"g1\"] = g1\n",
    "df_train[\"g2\"] = g2\n",
    "df_train[\"g3\"] = g3"
   ]
  },
  {
   "cell_type": "code",
   "execution_count": 5,
   "id": "6a30d8ca",
   "metadata": {},
   "outputs": [],
   "source": [
    "#Here I decompose each row into 10 principal components\n",
    "from sklearn.decomposition import PCA\n",
    "def pca_dec(data, n):\n",
    "  pca = PCA(n)\n",
    "  X_dec = pca.fit_transform(data)\n",
    "  return X_dec, pca"
   ]
  },
  {
   "cell_type": "code",
   "execution_count": 7,
   "id": "d6180b7c",
   "metadata": {},
   "outputs": [
    {
     "name": "stdout",
     "output_type": "stream",
     "text": [
      "(array([[ 7.50252543],\n",
      "       [ 5.52302054],\n",
      "       [ 4.51821683],\n",
      "       [-4.60876703],\n",
      "       [-6.1707374 ],\n",
      "       [-6.76425837]]), PCA(n_components=1))\n"
     ]
    }
   ],
   "source": [
    "print(pca_dec(df_train, 1))"
   ]
  },
  {
   "cell_type": "code",
   "execution_count": null,
   "id": "6da516dd",
   "metadata": {},
   "outputs": [],
   "source": [
    "#Decomposing the train set:\n",
    "pca_train_results, pca_train = pca_dec(df_train, 3)"
   ]
  },
  {
   "cell_type": "code",
   "execution_count": null,
   "id": "f1ad49e7",
   "metadata": {},
   "outputs": [],
   "source": [
    "#Decomposing the test set:\n",
    "pca_test_results, pca_test = pca_dec(X_test, 10)"
   ]
  },
  {
   "cell_type": "code",
   "execution_count": null,
   "id": "471cfeeb",
   "metadata": {},
   "outputs": [],
   "source": [
    "#Creating a table with the explained variance ratio\n",
    "names_pcas = [f\"PCA Component {i}\" for i in range(1, 2, 1)]\n",
    "scree = pd.DataFrame(list(zip(names_pcas, pca_train.explained_variance_ratio_)), columns=[\"Component\", \"Explained Variance Ratio\"])"
   ]
  },
  {
   "cell_type": "code",
   "execution_count": null,
   "id": "e6105589",
   "metadata": {},
   "outputs": [],
   "source": [
    "df = pd.DataFrame({'PCA':pca_train.components_[0], 'Variable Names':list(df_train.columns)})\n",
    "df = df.sort_values('PCA', ascending=False)"
   ]
  },
  {
   "cell_type": "code",
   "execution_count": null,
   "id": "9e02f951",
   "metadata": {},
   "outputs": [],
   "source": [
    "#Sorting the absolute values of the first principal component by magnitude\n",
    "df2 = pd.DataFrame(df)\n",
    "df2['PCA']=df2['PCA'].apply(np.absolute)\n",
    "df2 = df2.sort_values('PCA', ascending=False)\n",
    "df.head()"
   ]
  },
  {
   "cell_type": "code",
   "execution_count": null,
   "id": "d02296c9",
   "metadata": {},
   "outputs": [],
   "source": [
    "x = X_train[\"LotArea\"]\n",
    "y = y_train\n",
    "data_reg = np.polyfit(x, y, 2)\n",
    "xp = np.linspace(1,50*(10**3), 30)\n",
    "pr = np.polyval(data_reg, xp)\n",
    "\n",
    "fig = plt.figure(figsize=(14, 7))\n",
    "ax = fig.add_subplot()\n",
    "ax.grid()\n",
    "ax.set_xlabel(\"ponte\")\n",
    "ax.set_ylabel(\"price\")\n",
    "ax.scatter(x,y)\n",
    "ax.plot(xp, pr , color=\"RED\")"
   ]
  },
  {
   "cell_type": "code",
   "execution_count": null,
   "id": "fbfbe37f",
   "metadata": {},
   "outputs": [],
   "source": [
    "def polyfitter(x, y, degree):\n",
    "    results = {}\n",
    "\n",
    "    coeffs = np.polyfit(x, y, degree)\n",
    "\n",
    "     # Polynomial Coefficients\n",
    "    results['polynomial'] = coeffs.tolist()\n",
    "\n",
    "    # r-squared\n",
    "    p = np.poly1d(coeffs)\n",
    "    # fit values, and mean\n",
    "    yhat = p(x)                         # or [p(z) for z in x]\n",
    "    ybar = np.sum(y)/len(y)          # or sum(y)/len(y)\n",
    "    ssreg = np.sum((yhat-ybar)**2)   # or sum([ (yihat - ybar)**2 for yihat in yhat])\n",
    "    sstot = np.sum((y - ybar)**2)    # or sum([ (yi - ybar)**2 for yi in y])\n",
    "    results['determination'] = ssreg / sstot\n",
    "\n",
    "    return results"
   ]
  },
  {
   "cell_type": "code",
   "execution_count": null,
   "id": "aec0f423",
   "metadata": {},
   "outputs": [],
   "source": []
  }
 ],
 "metadata": {
  "kernelspec": {
   "display_name": "Python 3 (ipykernel)",
   "language": "python",
   "name": "python3"
  },
  "language_info": {
   "codemirror_mode": {
    "name": "ipython",
    "version": 3
   },
   "file_extension": ".py",
   "mimetype": "text/x-python",
   "name": "python",
   "nbconvert_exporter": "python",
   "pygments_lexer": "ipython3",
   "version": "3.10.0"
  }
 },
 "nbformat": 4,
 "nbformat_minor": 5
}
