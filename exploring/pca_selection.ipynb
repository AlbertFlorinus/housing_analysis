{
 "cells": [
  {
   "cell_type": "code",
   "execution_count": 12,
   "id": "11d3403f",
   "metadata": {},
   "outputs": [],
   "source": [
    "%matplotlib inline\n",
    "import matplotlib.pyplot as plt\n",
    "import pandas as pd\n",
    "import numpy as np"
   ]
  },
  {
   "cell_type": "code",
   "execution_count": 13,
   "id": "08d3ccff",
   "metadata": {},
   "outputs": [],
   "source": [
    "from mpl_toolkits.mplot3d import *\n",
    "import ipywidgets as widgets\n",
    "from ipywidgets import interact\n",
    "import matplotlib.animation as animation\n",
    "from IPython.display import HTML"
   ]
  },
  {
   "cell_type": "code",
   "execution_count": 14,
   "id": "ac00c986",
   "metadata": {},
   "outputs": [],
   "source": [
    "df = pd.read_csv('/Users/albert/Documents/GitHub/housing_analysis/house-data/train.csv')"
   ]
  },
  {
   "cell_type": "code",
   "execution_count": 15,
   "id": "83217357",
   "metadata": {},
   "outputs": [],
   "source": [
    "df = df[ df.select_dtypes(include=np.number).columns.tolist()]"
   ]
  },
  {
   "cell_type": "code",
   "execution_count": 16,
   "id": "36a934c3",
   "metadata": {},
   "outputs": [],
   "source": [
    "df.dropna(inplace=True)"
   ]
  },
  {
   "cell_type": "code",
   "execution_count": 17,
   "id": "f5d06a38",
   "metadata": {},
   "outputs": [],
   "source": [
    "#Here I decompose each row into 10 principal components\n",
    "from sklearn.decomposition import PCA\n",
    "def pca_dec(data, n):\n",
    "  pca = PCA(n)\n",
    "  X_dec = pca.fit_transform(data)\n",
    "  return X_dec, pca"
   ]
  },
  {
   "cell_type": "code",
   "execution_count": 18,
   "id": "f0818a1a",
   "metadata": {},
   "outputs": [],
   "source": [
    "#Decomposing the train set:\n",
    "pca_train_results, pca_train = pca_dec(df, 10)"
   ]
  },
  {
   "cell_type": "code",
   "execution_count": 21,
   "id": "cad4ebf5",
   "metadata": {},
   "outputs": [],
   "source": [
    "#Creating a table with the explained variance ratio\n",
    "names_pcas = [f\"PCA Component {i}\" for i in range(1, 11, 1)]\n",
    "scree = pd.DataFrame(list(zip(names_pcas, pca_train.explained_variance_ratio_)), columns=[\"Component\", \"Explained Variance Ratio\"])"
   ]
  },
  {
   "cell_type": "code",
   "execution_count": null,
   "id": "26ec42fd",
   "metadata": {},
   "outputs": [],
   "source": [
    "#Sorting the absolute values of the first principal component by magnitude\n",
    "df2 = pd.DataFrame(df_new)\n",
    "df2['PCA']=df2['PCA'].apply(np.absolute)\n",
    "df2 = df2.sort_values('PCA', ascending=False)\n",
    "df_new.head()"
   ]
  },
  {
   "cell_type": "code",
   "execution_count": null,
   "id": "4fb2aae7",
   "metadata": {},
   "outputs": [],
   "source": [
    "df = df[df['LotArea'].between(0, 200_000)]"
   ]
  },
  {
   "cell_type": "code",
   "execution_count": null,
   "id": "da30a95f",
   "metadata": {},
   "outputs": [],
   "source": [
    "deg = 1\n",
    "data_reg = np.polyfit(df[\"SalePrice\"], df[\"LotArea\"], deg)\n",
    "#xp = np.linspace(0.0,1.75,156)\n",
    "xp = np.linspace(1,50*(8*(10**5), 30))\n",
    "yp = np.polyval(data_reg, xp)\n",
    "fig = plt.figure(figsize=(9,5))\n",
    "ax = fig.add_subplot()\n",
    "ax.scatter(df[\"SalePrice\"], df[\"LotArea\"], label = \"SalePrice vs LotArea\", color=\"black\")\n",
    "ax.plot(xp, yp, label=\"Pol. Reg.\")\n",
    "ax.set_title(\"SalePrice vs LotArea\")\n",
    "ax.set_xlabel(\"Saleprice\")\n",
    "ax.set_ylabel(\"LotArea\")\n",
    "ax.grid()"
   ]
  },
  {
   "cell_type": "code",
   "execution_count": null,
   "id": "491d1d8d",
   "metadata": {},
   "outputs": [],
   "source": [
    "x = X_train[\"LotArea\"]\n",
    "y = y_train\n",
    "data_reg = np.polyfit(x, y, 2)\n",
    "xp = np.linspace(1,50*(10**3), 30)\n",
    "pr = np.polyval(data_reg, xp)\n",
    "\n",
    "fig = plt.figure(figsize=(14, 7))\n",
    "ax = fig.add_subplot()\n",
    "ax.grid()\n",
    "ax.set_xlabel(\"ponte\")\n",
    "ax.set_ylabel(\"price\")\n",
    "ax.scatter(x,y)\n",
    "ax.plot(xp, pr , color=\"RED\")"
   ]
  },
  {
   "cell_type": "code",
   "execution_count": null,
   "id": "2b3c561a",
   "metadata": {},
   "outputs": [],
   "source": []
  }
 ],
 "metadata": {
  "kernelspec": {
   "display_name": "Python 3 (ipykernel)",
   "language": "python",
   "name": "python3"
  },
  "language_info": {
   "codemirror_mode": {
    "name": "ipython",
    "version": 3
   },
   "file_extension": ".py",
   "mimetype": "text/x-python",
   "name": "python",
   "nbconvert_exporter": "python",
   "pygments_lexer": "ipython3",
   "version": "3.10.0"
  }
 },
 "nbformat": 4,
 "nbformat_minor": 5
}
