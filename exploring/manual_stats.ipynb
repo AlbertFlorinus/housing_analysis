{
 "cells": [
  {
   "cell_type": "code",
   "execution_count": 1,
   "id": "11d3403f",
   "metadata": {},
   "outputs": [],
   "source": [
    "%matplotlib inline\n",
    "import matplotlib.pyplot as plt\n",
    "import pandas as pd\n",
    "import numpy as np\n",
    "import math\n",
    "from scipy import stats"
   ]
  },
  {
   "cell_type": "code",
   "execution_count": 2,
   "id": "08d3ccff",
   "metadata": {},
   "outputs": [],
   "source": [
    "from mpl_toolkits.mplot3d import *\n",
    "import ipywidgets as widgets\n",
    "from ipywidgets import interact, interactive\n",
    "import matplotlib.animation as animation\n",
    "from IPython.display import HTML"
   ]
  },
  {
   "cell_type": "code",
   "execution_count": 3,
   "id": "ac00c986",
   "metadata": {},
   "outputs": [],
   "source": [
    "df = pd.read_csv('/Users/albert/Documents/GitHub/housing_analysis/house-data/train.csv')"
   ]
  },
  {
   "cell_type": "code",
   "execution_count": 4,
   "id": "83217357",
   "metadata": {},
   "outputs": [],
   "source": [
    "df = df[ df.select_dtypes(include=np.number).columns.tolist()]\n",
    "df.dropna(inplace=True)"
   ]
  },
  {
   "cell_type": "code",
   "execution_count": 5,
   "id": "995a6761",
   "metadata": {},
   "outputs": [],
   "source": [
    "def f(x, data_reg):\n",
    "    P = [i for i in range(len(data_reg))]\n",
    "    P.reverse()\n",
    "    predicted = sum( [a*(x**p) for a, p in zip(data_reg, P) ] )\n",
    "    return predicted"
   ]
  },
  {
   "cell_type": "code",
   "execution_count": 6,
   "id": "d4030550",
   "metadata": {},
   "outputs": [],
   "source": [
    "def pearson(df, attribute, data_reg):\n",
    "    M = df[\"SalePrice\"].mean()\n",
    "    Y = df[\"SalePrice\"].tolist()\n",
    "    X = df[attribute].tolist()\n",
    "    \n",
    "    SSres = sum( [(y-f(x, data_reg))**2 for y, x in zip(Y,X)] )\n",
    "    SStot = sum( [(y-M)**2 for y in Y ] )\n",
    "    \n",
    "    R2 = 1-(SSres/SStot)\n",
    "    return R2"
   ]
  },
  {
   "cell_type": "code",
   "execution_count": 7,
   "id": "22321762",
   "metadata": {},
   "outputs": [
    {
     "name": "stdout",
     "output_type": "stream",
     "text": [
      "0.49724155302648687\n"
     ]
    }
   ],
   "source": [
    "deg = 1\n",
    "attribute = \"GrLivArea\"\n",
    "data_reg = np.polyfit(df[attribute], df[\"SalePrice\"], deg)\n",
    "\n",
    "R2 = pearson(df, attribute, data_reg)\n",
    "\"\"\"\n",
    "same as;\n",
    "xp = np.polyval(data_reg, df[attribute].tolist())\n",
    "yp = df[\"SalePrice\"]\n",
    "R2 = stats.pearsonr(xp, yp)[0]**2\n",
    "\"\"\"\n",
    "print(R2)"
   ]
  },
  {
   "cell_type": "code",
   "execution_count": null,
   "id": "603f5c83",
   "metadata": {},
   "outputs": [],
   "source": []
  }
 ],
 "metadata": {
  "kernelspec": {
   "display_name": "Python 3 (ipykernel)",
   "language": "python",
   "name": "python3"
  },
  "language_info": {
   "codemirror_mode": {
    "name": "ipython",
    "version": 3
   },
   "file_extension": ".py",
   "mimetype": "text/x-python",
   "name": "python",
   "nbconvert_exporter": "python",
   "pygments_lexer": "ipython3",
   "version": "3.10.0"
  }
 },
 "nbformat": 4,
 "nbformat_minor": 5
}
