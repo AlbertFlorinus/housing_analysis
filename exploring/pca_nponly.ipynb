{
 "cells": [
  {
   "cell_type": "code",
   "execution_count": 1,
   "id": "147d11eb",
   "metadata": {},
   "outputs": [],
   "source": [
    "%matplotlib inline\n",
    "import re\n",
    "import pandas as pd\n",
    "from matplotlib import pyplot\n",
    "import numpy as np \n",
    "import matplotlib.pyplot as plt \n",
    "import seaborn as sns\n",
    "import os\n",
    "import sys"
   ]
  },
  {
   "cell_type": "code",
   "execution_count": 2,
   "id": "496f9201",
   "metadata": {},
   "outputs": [],
   "source": [
    "sns.set()\n",
    "\n",
    "#load the data from my drive \n",
    "#df_train = pd.read_csv('/Users/albert/Documents/GitHub/housing_analysis/house-data/train.csv')"
   ]
  },
  {
   "cell_type": "code",
   "execution_count": 7,
   "id": "749dedc0",
   "metadata": {},
   "outputs": [],
   "source": [
    "g1 = np.array([10,11,8,3,2,1])\n",
    "g2 = np.array([6,4,5,3,2.8,1])\n",
    "g3 = np.array([12,9,10,2.5,1.3,2])"
   ]
  },
  {
   "cell_type": "code",
   "execution_count": 8,
   "id": "db17bf5d",
   "metadata": {},
   "outputs": [],
   "source": [
    "df_train = pd.DataFrame()\n",
    "df_train[\"g1\"] = g1\n",
    "df_train[\"g2\"] = g2\n",
    "df_train[\"g3\"] = g3"
   ]
  },
  {
   "cell_type": "code",
   "execution_count": 9,
   "id": "0b36b44f",
   "metadata": {},
   "outputs": [],
   "source": [
    "def standardize_data(arr):\n",
    "         \n",
    "    '''\n",
    "    This function standardize an array, its substracts mean value, \n",
    "    and then divide the standard deviation.\n",
    "    \n",
    "    param 1: array \n",
    "    return: standardized array\n",
    "    '''    \n",
    "    rows, columns = arr.shape\n",
    "    \n",
    "    standardizedArray = np.zeros(shape=(rows, columns))\n",
    "    tempArray = np.zeros(rows)\n",
    "    \n",
    "    for column in range(columns):\n",
    "        \n",
    "        mean = np.mean(X[:,column])\n",
    "        std = np.std(X[:,column])\n",
    "        tempArray = np.empty(0)\n",
    "        \n",
    "        for element in X[:,column]:\n",
    "            \n",
    "            tempArray = np.append(tempArray, ((element - mean) / std))\n",
    " \n",
    "        standardizedArray[:,column] = tempArray\n",
    "    \n",
    "    return standardizedArray"
   ]
  },
  {
   "cell_type": "code",
   "execution_count": 15,
   "id": "02ad3e0d",
   "metadata": {},
   "outputs": [
    {
     "ename": "NameError",
     "evalue": "name 'X' is not defined",
     "output_type": "error",
     "traceback": [
      "\u001b[0;31m---------------------------------------------------------------------------\u001b[0m",
      "\u001b[0;31mNameError\u001b[0m                                 Traceback (most recent call last)",
      "Input \u001b[0;32mIn [15]\u001b[0m, in \u001b[0;36m<module>\u001b[0;34m\u001b[0m\n\u001b[1;32m      1\u001b[0m x \u001b[38;5;241m=\u001b[39m df_train\u001b[38;5;241m.\u001b[39miloc[:, \u001b[38;5;241m0\u001b[39m:\u001b[38;5;241m3\u001b[39m]\u001b[38;5;241m.\u001b[39mvalues\n\u001b[0;32m----> 2\u001b[0m x \u001b[38;5;241m=\u001b[39m \u001b[43mstandardize_data\u001b[49m\u001b[43m(\u001b[49m\u001b[43mx\u001b[49m\u001b[43m)\u001b[49m\n",
      "Input \u001b[0;32mIn [9]\u001b[0m, in \u001b[0;36mstandardize_data\u001b[0;34m(arr)\u001b[0m\n\u001b[1;32m     13\u001b[0m tempArray \u001b[38;5;241m=\u001b[39m np\u001b[38;5;241m.\u001b[39mzeros(rows)\n\u001b[1;32m     15\u001b[0m \u001b[38;5;28;01mfor\u001b[39;00m column \u001b[38;5;129;01min\u001b[39;00m \u001b[38;5;28mrange\u001b[39m(columns):\n\u001b[0;32m---> 17\u001b[0m     mean \u001b[38;5;241m=\u001b[39m np\u001b[38;5;241m.\u001b[39mmean(\u001b[43mX\u001b[49m[:,column])\n\u001b[1;32m     18\u001b[0m     std \u001b[38;5;241m=\u001b[39m np\u001b[38;5;241m.\u001b[39mstd(X[:,column])\n\u001b[1;32m     19\u001b[0m     tempArray \u001b[38;5;241m=\u001b[39m np\u001b[38;5;241m.\u001b[39mempty(\u001b[38;5;241m0\u001b[39m)\n",
      "\u001b[0;31mNameError\u001b[0m: name 'X' is not defined"
     ]
    }
   ],
   "source": [
    "x = df_train.iloc[:, 0:3].values\n",
    "x = standardize_data(x)"
   ]
  },
  {
   "cell_type": "code",
   "execution_count": 5,
   "id": "6a30d8ca",
   "metadata": {},
   "outputs": [],
   "source": [
    "#Here I decompose each row into 10 principal components\n",
    "from sklearn.decomposition import PCA\n",
    "def pca_dec(data, n):\n",
    "  pca = PCA(n)\n",
    "  X_dec = pca.fit_transform(data)\n",
    "  return X_dec, pca"
   ]
  }
 ],
 "metadata": {
  "kernelspec": {
   "display_name": "Python 3 (ipykernel)",
   "language": "python",
   "name": "python3"
  },
  "language_info": {
   "codemirror_mode": {
    "name": "ipython",
    "version": 3
   },
   "file_extension": ".py",
   "mimetype": "text/x-python",
   "name": "python",
   "nbconvert_exporter": "python",
   "pygments_lexer": "ipython3",
   "version": "3.10.0"
  }
 },
 "nbformat": 4,
 "nbformat_minor": 5
}
