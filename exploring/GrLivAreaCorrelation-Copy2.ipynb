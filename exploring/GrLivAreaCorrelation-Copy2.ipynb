{
 "cells": [
  {
   "cell_type": "code",
   "execution_count": 1,
   "id": "11d3403f",
   "metadata": {},
   "outputs": [],
   "source": [
    "%matplotlib inline\n",
    "import matplotlib.pyplot as plt\n",
    "import pandas as pd\n",
    "import numpy as np\n",
    "import math\n",
    "from scipy import stats"
   ]
  },
  {
   "cell_type": "code",
   "execution_count": 2,
   "id": "08d3ccff",
   "metadata": {},
   "outputs": [],
   "source": [
    "from mpl_toolkits.mplot3d import *\n",
    "import ipywidgets as widgets\n",
    "from ipywidgets import interact, interactive, Dropdown\n",
    "import matplotlib.animation as animation\n",
    "from IPython.display import HTML"
   ]
  },
  {
   "cell_type": "code",
   "execution_count": 3,
   "id": "ac00c986",
   "metadata": {},
   "outputs": [],
   "source": [
    "df = pd.read_csv('/Users/albert/Documents/GitHub/housing_analysis/house-data/train.csv')"
   ]
  },
  {
   "cell_type": "code",
   "execution_count": 4,
   "id": "83217357",
   "metadata": {},
   "outputs": [],
   "source": [
    "df = df[ df.select_dtypes(include=np.number).columns.tolist()]"
   ]
  },
  {
   "cell_type": "code",
   "execution_count": 5,
   "id": "36a934c3",
   "metadata": {},
   "outputs": [],
   "source": [
    "df.dropna(inplace=True)"
   ]
  },
  {
   "cell_type": "code",
   "execution_count": 6,
   "id": "b7529a76",
   "metadata": {},
   "outputs": [],
   "source": [
    "#GrLivArea: Above grade (ground) living area square feet"
   ]
  },
  {
   "cell_type": "code",
   "execution_count": 7,
   "id": "a5939cc1",
   "metadata": {},
   "outputs": [],
   "source": [
    "attribute = \"GrLivArea\""
   ]
  },
  {
   "cell_type": "code",
   "execution_count": 39,
   "id": "563cfff8",
   "metadata": {},
   "outputs": [
    {
     "data": {
      "application/vnd.jupyter.widget-view+json": {
       "model_id": "a8891a634c8049dcadcfed602c6f5b6e",
       "version_major": 2,
       "version_minor": 0
      },
      "text/plain": [
       "interactive(children=(IntSlider(value=3, description='rank', max=6, min=1), Dropdown(description='attribute', …"
      ]
     },
     "metadata": {},
     "output_type": "display_data"
    }
   ],
   "source": [
    "attribute = Dropdown(options = df.keys())\n",
    "@interact(rank = (1, 6), attribute = attribute)\n",
    "def f(rank, attribute):\n",
    "    measured = df[\"SalePrice\"]\n",
    "    COLORS = [\"red\", \"blue\", \"green\", \"orange\", \"yellow\", \"gray\", \"cyan\", \"purple\"]\n",
    "    model = {}\n",
    "    xp = np.linspace(1, df[attribute].max()+df[attribute].mean()/4, 20)\n",
    "    \n",
    "    for i in range(1, rank+1):\n",
    "        data_reg = np.polyfit(df[attribute], df[\"SalePrice\"], i)\n",
    "        predicted = np.polyval(data_reg, df[attribute].tolist())\n",
    "        if i == 1:\n",
    "            model[i] = [data_reg,\n",
    "                             predicted,\n",
    "                             stats.pearsonr(predicted, measured)[0]]\n",
    "\n",
    "        elif i > 1:\n",
    "            model[i] = [data_reg,\n",
    "                             predicted,\n",
    "                             stats.spearmanr(predicted, measured)[0]]\n",
    "    \n",
    "    fig = plt.figure(figsize=(9,5))\n",
    "    ax = plt.axes()\n",
    "    plt.scatter(df[attribute], df[\"SalePrice\"], label = f\"degree : correlation\", color=\"black\")\n",
    "    for i in range(1, rank+1):\n",
    "        ax.plot(xp, np.polyval(model[i][0], xp), label = f\"{i} : {round(model[i][2], 3)}\", color = COLORS[i-1] )\n",
    "    \n",
    "    ax.set_ylim(bottom=0, top = df[\"SalePrice\"].max()+df[\"SalePrice\"].mean()/4)\n",
    "    ax.set_xlim(0, df[attribute].max()+df[attribute].mean()/4)\n",
    "    ax.set_title(\"\")\n",
    "    ax.set_title(f\"SalePrice vs {attribute}\")\n",
    "    ax.set_xlabel(f\"{attribute}\")\n",
    "    ax.set_ylabel(f\"SalePrice, {attribute}\")\n",
    "    ax.grid()\n",
    "    ax.legend()"
   ]
  },
  {
   "cell_type": "code",
   "execution_count": null,
   "id": "9506d456",
   "metadata": {},
   "outputs": [],
   "source": []
  }
 ],
 "metadata": {
  "kernelspec": {
   "display_name": "Python 3 (ipykernel)",
   "language": "python",
   "name": "python3"
  },
  "language_info": {
   "codemirror_mode": {
    "name": "ipython",
    "version": 3
   },
   "file_extension": ".py",
   "mimetype": "text/x-python",
   "name": "python",
   "nbconvert_exporter": "python",
   "pygments_lexer": "ipython3",
   "version": "3.10.0"
  }
 },
 "nbformat": 4,
 "nbformat_minor": 5
}
