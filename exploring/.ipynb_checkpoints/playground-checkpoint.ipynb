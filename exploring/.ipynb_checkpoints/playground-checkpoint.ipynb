{
 "cells": [
  {
   "cell_type": "code",
   "execution_count": 1,
   "id": "11d3403f",
   "metadata": {},
   "outputs": [],
   "source": [
    "%matplotlib inline\n",
    "import matplotlib.pyplot as plt\n",
    "import pandas as pd\n",
    "import numpy as np"
   ]
  },
  {
   "cell_type": "code",
   "execution_count": 2,
   "id": "08d3ccff",
   "metadata": {},
   "outputs": [],
   "source": [
    "from mpl_toolkits.mplot3d import *\n",
    "import ipywidgets as widgets\n",
    "from ipywidgets import interact\n",
    "import matplotlib.animation as animation\n",
    "from IPython.display import HTML"
   ]
  },
  {
   "cell_type": "code",
   "execution_count": 3,
   "id": "ac00c986",
   "metadata": {},
   "outputs": [],
   "source": [
    "df = pd.read_csv('/Users/albert/Documents/GitHub/housing_analysis/house-data/train.csv')"
   ]
  },
  {
   "cell_type": "code",
   "execution_count": 4,
   "id": "83217357",
   "metadata": {},
   "outputs": [],
   "source": [
    "df = df[ df.select_dtypes(include=np.number).columns.tolist()]"
   ]
  },
  {
   "cell_type": "code",
   "execution_count": 5,
   "id": "36a934c3",
   "metadata": {},
   "outputs": [],
   "source": [
    "df.dropna(inplace=True)"
   ]
  },
  {
   "cell_type": "code",
   "execution_count": null,
   "id": "1136d621",
   "metadata": {},
   "outputs": [],
   "source": [
    "price = df[\"SalePrice\"]"
   ]
  },
  {
   "cell_type": "code",
   "execution_count": null,
   "id": "416dc727",
   "metadata": {},
   "outputs": [],
   "source": [
    "kvm = df[\"LotArea\"]"
   ]
  },
  {
   "cell_type": "code",
   "execution_count": null,
   "id": "001cd153",
   "metadata": {},
   "outputs": [],
   "source": [
    "kvm_in = df[\"GrLivArea\"]"
   ]
  },
  {
   "cell_type": "code",
   "execution_count": null,
   "id": "adbc7a3f",
   "metadata": {},
   "outputs": [],
   "source": [
    "fig = plt.figure(figsize=(14,7))\n",
    "ax = fig.add_subplot()\n",
    "ax.scatter(kvm, price , label='LotArea vs SalePrice', color='blue') \n",
    "ax.set_title('LotArea vs SalePrice')\n",
    "ax.set_xlabel('Lotarea')\n",
    "ax.set_ylabel('Saleprice')\n",
    "ax.grid()\n",
    "ax.legend()"
   ]
  },
  {
   "cell_type": "code",
   "execution_count": null,
   "id": "f3874a44",
   "metadata": {},
   "outputs": [],
   "source": [
    "fig = plt.figure(figsize=(14,7))\n",
    "ax = fig.add_subplot(projection='3d')\n",
    "ax.scatter(kvm, kvm_in, price, label='area vs inarea Vs price', color='blue') \n",
    "ax.set_title('GDP vs Social Vs Life')\n",
    "ax.set_xlabel('area')\n",
    "ax.set_ylabel('inarea')\n",
    "ax.set_zlabel('price')\n",
    "ax.grid()\n",
    "ax.legend()"
   ]
  },
  {
   "cell_type": "code",
   "execution_count": 12,
   "id": "1b23b12a",
   "metadata": {},
   "outputs": [],
   "source": [
    "%matplotlib widget"
   ]
  },
  {
   "cell_type": "code",
   "execution_count": null,
   "id": "eb09213b",
   "metadata": {},
   "outputs": [],
   "source": [
    "def f(x):\n",
    "    return x"
   ]
  },
  {
   "cell_type": "code",
   "execution_count": null,
   "id": "69a238e9",
   "metadata": {},
   "outputs": [],
   "source": [
    "#slider\n",
    "widgets.interact(f, x=5)"
   ]
  },
  {
   "cell_type": "code",
   "execution_count": null,
   "id": "51ed0638",
   "metadata": {},
   "outputs": [],
   "source": [
    "#checkbox\n",
    "widgets.interact(f, x=True)"
   ]
  },
  {
   "cell_type": "code",
   "execution_count": null,
   "id": "34e600c6",
   "metadata": {},
   "outputs": [],
   "source": [
    "#textbox\n",
    "widgets.interact(f, x=\"\")"
   ]
  },
  {
   "cell_type": "code",
   "execution_count": null,
   "id": "238a899d",
   "metadata": {},
   "outputs": [],
   "source": [
    "#dropdown menus\n",
    "widgets.interact(f, x=[1,2,3,4])"
   ]
  },
  {
   "cell_type": "code",
   "execution_count": 6,
   "id": "f5d06a38",
   "metadata": {},
   "outputs": [],
   "source": [
    "#Here I decompose each row into 10 principal components\n",
    "from sklearn.decomposition import PCA\n",
    "def pca_dec(data, n):\n",
    "  pca = PCA(n)\n",
    "  X_dec = pca.fit_transform(data)\n",
    "  return X_dec, pca"
   ]
  },
  {
   "cell_type": "code",
   "execution_count": 8,
   "id": "cad4ebf5",
   "metadata": {},
   "outputs": [
    {
     "data": {
      "text/html": [
       "<div>\n",
       "<style scoped>\n",
       "    .dataframe tbody tr th:only-of-type {\n",
       "        vertical-align: middle;\n",
       "    }\n",
       "\n",
       "    .dataframe tbody tr th {\n",
       "        vertical-align: top;\n",
       "    }\n",
       "\n",
       "    .dataframe thead th {\n",
       "        text-align: right;\n",
       "    }\n",
       "</style>\n",
       "<table border=\"1\" class=\"dataframe\">\n",
       "  <thead>\n",
       "    <tr style=\"text-align: right;\">\n",
       "      <th></th>\n",
       "      <th>PCA</th>\n",
       "      <th>Variable Names</th>\n",
       "    </tr>\n",
       "  </thead>\n",
       "  <tbody>\n",
       "    <tr>\n",
       "      <th>37</th>\n",
       "      <td>0.999535</td>\n",
       "      <td>SalePrice</td>\n",
       "    </tr>\n",
       "    <tr>\n",
       "      <th>3</th>\n",
       "      <td>0.029625</td>\n",
       "      <td>LotArea</td>\n",
       "    </tr>\n",
       "    <tr>\n",
       "      <th>16</th>\n",
       "      <td>0.004449</td>\n",
       "      <td>GrLivArea</td>\n",
       "    </tr>\n",
       "    <tr>\n",
       "      <th>12</th>\n",
       "      <td>0.003306</td>\n",
       "      <td>TotalBsmtSF</td>\n",
       "    </tr>\n",
       "    <tr>\n",
       "      <th>13</th>\n",
       "      <td>0.002830</td>\n",
       "      <td>1stFlrSF</td>\n",
       "    </tr>\n",
       "  </tbody>\n",
       "</table>\n",
       "</div>"
      ],
      "text/plain": [
       "         PCA Variable Names\n",
       "37  0.999535      SalePrice\n",
       "3   0.029625        LotArea\n",
       "16  0.004449      GrLivArea\n",
       "12  0.003306    TotalBsmtSF\n",
       "13  0.002830       1stFlrSF"
      ]
     },
     "execution_count": 8,
     "metadata": {},
     "output_type": "execute_result"
    }
   ],
   "source": [
    "#Decomposing the train set:\n",
    "pca_train_results, pca_train = pca_dec(df, 10)\n",
    "#Creating a table with the explained variance ratio\n",
    "names_pcas = [f\"PCA Component {i}\" for i in range(1, 11, 1)]\n",
    "scree = pd.DataFrame(list(zip(names_pcas, pca_train.explained_variance_ratio_)), columns=[\"Component\", \"Explained Variance Ratio\"])\n",
    "df_new = pd.DataFrame({'PCA':pca_train.components_[0], 'Variable Names':list(df.columns)})\n",
    "df_new = df_new.sort_values('PCA', ascending=False)\n",
    "#Sorting the absolute values of the first principal component by magnitude\n",
    "df2 = pd.DataFrame(df_new)\n",
    "df2['PCA']=df2['PCA'].apply(np.absolute)\n",
    "df2 = df2.sort_values('PCA', ascending=False)\n",
    "df_new.head()"
   ]
  },
  {
   "cell_type": "code",
   "execution_count": 15,
   "id": "4fb2aae7",
   "metadata": {},
   "outputs": [],
   "source": [
    "df = df[df['LotArea'].between(0, 200_000)]"
   ]
  },
  {
   "cell_type": "code",
   "execution_count": 32,
   "id": "da30a95f",
   "metadata": {},
   "outputs": [
    {
     "data": {
      "application/vnd.jupyter.widget-view+json": {
       "model_id": "5d515fa3d8294de2967ee69fd6485448",
       "version_major": 2,
       "version_minor": 0
      },
      "image/png": "[encoded data removed]",
      "text/html": [
       "\n",
       "            <div style=\"display: inline-block;\">\n",
       "                <div class=\"jupyter-widgets widget-label\" style=\"text-align: center;\">\n",
       "                    Figure\n",
       "                </div>\n",
       "                <img src='data:image/png;base64,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' width=648.0/>\n",
       "            </div>\n",
       "        "
      ],
      "text/plain": [
       "Canvas(toolbar=Toolbar(toolitems=[('Home', 'Reset original view', 'home', 'home'), ('Back', 'Back to previous …"
      ]
     },
     "metadata": {},
     "output_type": "display_data"
    }
   ],
   "source": [
    "deg = 1\n",
    "data_reg = np.polyfit(df[\"SalePrice\"], df[\"LotArea\"], deg)\n",
    "#xp = np.linspace(0.0,1.75,156)\n",
    "xp = np.linspace(1,50*(8*(10**5), 30))\n",
    "yp = np.polyval(data_reg, xp)\n",
    "fig = plt.figure(figsize=(9,5))\n",
    "ax = fig.add_subplot()\n",
    "ax.scatter(df[\"SalePrice\"], df[\"LotArea\"], label = \"SalePrice vs LotArea\", color=\"black\")\n",
    "ax.plot(xp, yp, label=\"Pol. Reg.\")\n",
    "ax.set_title(\"SalePrice vs LotArea\")\n",
    "ax.set_xlabel(\"Saleprice\")\n",
    "ax.set_ylabel(\"LotArea\")\n",
    "ax.grid()"
   ]
  },
  {
   "cell_type": "code",
   "execution_count": null,
   "id": "491d1d8d",
   "metadata": {},
   "outputs": [],
   "source": [
    "x = X_train[\"LotArea\"]\n",
    "y = y_train\n",
    "data_reg = np.polyfit(x, y, 2)\n",
    "xp = np.linspace(1,50*(10**3), 30)\n",
    "pr = np.polyval(data_reg, xp)\n",
    "\n",
    "fig = plt.figure(figsize=(14, 7))\n",
    "ax = fig.add_subplot()\n",
    "ax.grid()\n",
    "ax.set_xlabel(\"ponte\")\n",
    "ax.set_ylabel(\"price\")\n",
    "ax.scatter(x,y)\n",
    "ax.plot(xp, pr , color=\"RED\")"
   ]
  },
  {
   "cell_type": "code",
   "execution_count": null,
   "id": "2b3c561a",
   "metadata": {},
   "outputs": [],
   "source": []
  }
 ],
 "metadata": {
  "kernelspec": {
   "display_name": "Python 3 (ipykernel)",
   "language": "python",
   "name": "python3"
  },
  "language_info": {
   "codemirror_mode": {
    "name": "ipython",
    "version": 3
   },
   "file_extension": ".py",
   "mimetype": "text/x-python",
   "name": "python",
   "nbconvert_exporter": "python",
   "pygments_lexer": "ipython3",
   "version": "3.10.0"
  }
 },
 "nbformat": 4,
 "nbformat_minor": 5
}
