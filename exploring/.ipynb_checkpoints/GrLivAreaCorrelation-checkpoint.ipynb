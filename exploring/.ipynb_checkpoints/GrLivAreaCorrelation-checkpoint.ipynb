{
 "cells": [
  {
   "cell_type": "code",
   "execution_count": 2,
   "id": "11d3403f",
   "metadata": {},
   "outputs": [],
   "source": [
    "%matplotlib inline\n",
    "import matplotlib.pyplot as plt\n",
    "import pandas as pd\n",
    "import numpy as np"
   ]
  },
  {
   "cell_type": "code",
   "execution_count": 3,
   "id": "08d3ccff",
   "metadata": {},
   "outputs": [],
   "source": [
    "from mpl_toolkits.mplot3d import *\n",
    "import ipywidgets as widgets\n",
    "from ipywidgets import interact\n",
    "import matplotlib.animation as animation\n",
    "from IPython.display import HTML"
   ]
  },
  {
   "cell_type": "code",
   "execution_count": 4,
   "id": "ac00c986",
   "metadata": {},
   "outputs": [],
   "source": [
    "df = pd.read_csv('/Users/albert/Documents/GitHub/housing_analysis/house-data/train.csv')"
   ]
  },
  {
   "cell_type": "code",
   "execution_count": 5,
   "id": "83217357",
   "metadata": {},
   "outputs": [],
   "source": [
    "df = df[ df.select_dtypes(include=np.number).columns.tolist()]"
   ]
  },
  {
   "cell_type": "code",
   "execution_count": 6,
   "id": "36a934c3",
   "metadata": {},
   "outputs": [],
   "source": [
    "df.dropna(inplace=True)"
   ]
  },
  {
   "cell_type": "code",
   "execution_count": 11,
   "id": "26ec42fd",
   "metadata": {},
   "outputs": [
    {
     "data": {
      "text/html": [
       "<div>\n",
       "<style scoped>\n",
       "    .dataframe tbody tr th:only-of-type {\n",
       "        vertical-align: middle;\n",
       "    }\n",
       "\n",
       "    .dataframe tbody tr th {\n",
       "        vertical-align: top;\n",
       "    }\n",
       "\n",
       "    .dataframe thead th {\n",
       "        text-align: right;\n",
       "    }\n",
       "</style>\n",
       "<table border=\"1\" class=\"dataframe\">\n",
       "  <thead>\n",
       "    <tr style=\"text-align: right;\">\n",
       "      <th></th>\n",
       "      <th>PCA</th>\n",
       "      <th>Variable Names</th>\n",
       "    </tr>\n",
       "  </thead>\n",
       "  <tbody>\n",
       "    <tr>\n",
       "      <th>37</th>\n",
       "      <td>0.999535</td>\n",
       "      <td>SalePrice</td>\n",
       "    </tr>\n",
       "    <tr>\n",
       "      <th>3</th>\n",
       "      <td>0.029625</td>\n",
       "      <td>LotArea</td>\n",
       "    </tr>\n",
       "    <tr>\n",
       "      <th>16</th>\n",
       "      <td>0.004449</td>\n",
       "      <td>GrLivArea</td>\n",
       "    </tr>\n",
       "    <tr>\n",
       "      <th>12</th>\n",
       "      <td>0.003306</td>\n",
       "      <td>TotalBsmtSF</td>\n",
       "    </tr>\n",
       "    <tr>\n",
       "      <th>13</th>\n",
       "      <td>0.002830</td>\n",
       "      <td>1stFlrSF</td>\n",
       "    </tr>\n",
       "  </tbody>\n",
       "</table>\n",
       "</div>"
      ],
      "text/plain": [
       "         PCA Variable Names\n",
       "37  0.999535      SalePrice\n",
       "3   0.029625        LotArea\n",
       "16  0.004449      GrLivArea\n",
       "12  0.003306    TotalBsmtSF\n",
       "13  0.002830       1stFlrSF"
      ]
     },
     "execution_count": 11,
     "metadata": {},
     "output_type": "execute_result"
    }
   ],
   "source": [
    "#Sorting the absolute values of the first principal component by magnitude\n",
    "df2 = pd.DataFrame(df_new)\n",
    "df2['PCA']=df2['PCA'].apply(np.absolute)\n",
    "df2 = df2.sort_values('PCA', ascending=False)\n",
    "df_new.head()"
   ]
  },
  {
   "cell_type": "code",
   "execution_count": 15,
   "id": "4fb2aae7",
   "metadata": {},
   "outputs": [],
   "source": [
    "df = df[df['LotArea'].between(0, 200_000)]"
   ]
  },
  {
   "cell_type": "code",
   "execution_count": null,
   "id": "044c9da0",
   "metadata": {},
   "outputs": [],
   "source": [
    "#GrLivArea: Above grade (ground) living area square feet"
   ]
  },
  {
   "cell_type": "code",
   "execution_count": 25,
   "id": "da30a95f",
   "metadata": {},
   "outputs": [
    {
     "data": {
      "image/png": "[encoded data removed]",
      "text/plain": [
       "<Figure size 648x360 with 1 Axes>"
      ]
     },
     "metadata": {
      "needs_background": "light"
     },
     "output_type": "display_data"
    }
   ],
   "source": [
    "deg = \n",
    "data_reg = np.polyfit(df[\"SalePrice\"], df[\"LotArea\"], deg)\n",
    "#xp = np.linspace(0.0,1.75,156)\n",
    "xp = np.linspace(1,50*(8*(10**5), 30))\n",
    "yp = np.polyval(data_reg, xp)\n",
    "fig = plt.figure(figsize=(9,5))\n",
    "ax = fig.add_subplot()\n",
    "ax.scatter(df[\"SalePrice\"], df[\"LotArea\"], label = \"SalePrice vs LotArea\", color=\"black\")\n",
    "ax.plot(xp, yp, label=\"Pol. Reg.\")\n",
    "ax.set_title(\"SalePrice vs LotArea\")\n",
    "ax.set_xlabel(\"Saleprice\")\n",
    "ax.set_ylabel(\"LotArea\")\n",
    "ax.grid()"
   ]
  },
  {
   "cell_type": "code",
   "execution_count": null,
   "id": "491d1d8d",
   "metadata": {},
   "outputs": [],
   "source": [
    "x = X_train[\"LotArea\"]\n",
    "y = y_train\n",
    "data_reg = np.polyfit(x, y, 2)\n",
    "xp = np.linspace(1,50*(10**3), 30)\n",
    "pr = np.polyval(data_reg, xp)\n",
    "\n",
    "fig = plt.figure(figsize=(14, 7))\n",
    "ax = fig.add_subplot()\n",
    "ax.grid()\n",
    "ax.set_xlabel(\"ponte\")\n",
    "ax.set_ylabel(\"price\")\n",
    "ax.scatter(x,y)\n",
    "ax.plot(xp, pr , color=\"RED\")"
   ]
  },
  {
   "cell_type": "code",
   "execution_count": null,
   "id": "2b3c561a",
   "metadata": {},
   "outputs": [],
   "source": []
  }
 ],
 "metadata": {
  "kernelspec": {
   "display_name": "Python 3 (ipykernel)",
   "language": "python",
   "name": "python3"
  },
  "language_info": {
   "codemirror_mode": {
    "name": "ipython",
    "version": 3
   },
   "file_extension": ".py",
   "mimetype": "text/x-python",
   "name": "python",
   "nbconvert_exporter": "python",
   "pygments_lexer": "ipython3",
   "version": "3.10.0"
  }
 },
 "nbformat": 4,
 "nbformat_minor": 5
}
