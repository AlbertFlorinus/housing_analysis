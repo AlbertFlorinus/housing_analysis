{
 "cells": [
  {
   "cell_type": "code",
   "execution_count": 1,
   "id": "11d3403f",
   "metadata": {},
   "outputs": [],
   "source": [
    "%matplotlib inline\n",
    "import matplotlib.pyplot as plt\n",
    "import pandas as pd\n",
    "import numpy as np\n",
    "import math\n",
    "from scipy import stats"
   ]
  },
  {
   "cell_type": "code",
   "execution_count": 63,
   "id": "08d3ccff",
   "metadata": {},
   "outputs": [],
   "source": [
    "from mpl_toolkits.mplot3d import *\n",
    "import ipywidgets as widgets\n",
    "from ipywidgets import interact, interactive, Dropdown\n",
    "import matplotlib.animation as animation\n",
    "from IPython.display import HTML"
   ]
  },
  {
   "cell_type": "code",
   "execution_count": 3,
   "id": "ac00c986",
   "metadata": {},
   "outputs": [],
   "source": [
    "df = pd.read_csv('/Users/albert/Documents/GitHub/housing_analysis/house-data/train.csv')"
   ]
  },
  {
   "cell_type": "code",
   "execution_count": 4,
   "id": "83217357",
   "metadata": {},
   "outputs": [],
   "source": [
    "df = df[ df.select_dtypes(include=np.number).columns.tolist()]"
   ]
  },
  {
   "cell_type": "code",
   "execution_count": 5,
   "id": "36a934c3",
   "metadata": {},
   "outputs": [],
   "source": [
    "df.dropna(inplace=True)"
   ]
  },
  {
   "cell_type": "code",
   "execution_count": 6,
   "id": "b7529a76",
   "metadata": {},
   "outputs": [],
   "source": [
    "#GrLivArea: Above grade (ground) living area square feet"
   ]
  },
  {
   "cell_type": "code",
   "execution_count": 7,
   "id": "a5939cc1",
   "metadata": {},
   "outputs": [],
   "source": [
    "attribute = \"GrLivArea\""
   ]
  },
  {
   "cell_type": "code",
   "execution_count": 66,
   "id": "c0373db7",
   "metadata": {},
   "outputs": [
    {
     "data": {
      "application/vnd.jupyter.widget-view+json": {
       "model_id": "496081f11d14476d9c97c8d44940c1b7",
       "version_major": 2,
       "version_minor": 0
      },
      "text/plain": [
       "interactive(children=(Dropdown(description='country', options=('USA', 'Russia'), value='USA'), Dropdown(descri…"
      ]
     },
     "metadata": {},
     "output_type": "display_data"
    }
   ],
   "source": [
    "geo = {'USA':['CHI','NYC'],'Russia':['MOW','LED']}\n",
    "countryW = Dropdown(options = geo.keys())\n",
    "cityW = Dropdown()\n",
    "\n",
    "def update_cityW_options(*args): # *args represent zero (case here) or more arguments.\n",
    "    cityW.options = geo[countryW.value]\n",
    "cityW.observe(update_cityW_options) # Here is the trick, i.e. update cityW.options based on countryW.value.\n",
    "@interact(country = countryW, city = cityW)\n",
    "def print_city(country, city):\n",
    "    print(country, city)"
   ]
  },
  {
   "cell_type": "code",
   "execution_count": 67,
   "id": "563cfff8",
   "metadata": {},
   "outputs": [
    {
     "ename": "ValueError",
     "evalue": "cannot find widget or abbreviation for argument: 'rank'",
     "output_type": "error",
     "traceback": [
      "\u001b[0;31m---------------------------------------------------------------------------\u001b[0m",
      "\u001b[0;31mValueError\u001b[0m                                Traceback (most recent call last)",
      "Input \u001b[0;32mIn [67]\u001b[0m, in \u001b[0;36m<module>\u001b[0;34m\u001b[0m\n\u001b[1;32m      1\u001b[0m \u001b[38;5;129;43m@interact\u001b[39;49m\u001b[43m(\u001b[49m\u001b[43mcountry\u001b[49m\u001b[43m \u001b[49m\u001b[38;5;241;43m=\u001b[39;49m\u001b[43m \u001b[49m\u001b[43mcountryW\u001b[49m\u001b[43m,\u001b[49m\u001b[43m \u001b[49m\u001b[43mcity\u001b[49m\u001b[43m \u001b[49m\u001b[38;5;241;43m=\u001b[39;49m\u001b[43m \u001b[49m\u001b[43mcityW\u001b[49m\u001b[43m)\u001b[49m\n\u001b[0;32m----> 2\u001b[0m \u001b[38;5;28;43;01mdef\u001b[39;49;00m\u001b[43m \u001b[49m\u001b[38;5;21;43mf\u001b[39;49m\u001b[43m(\u001b[49m\u001b[43mrank\u001b[49m\u001b[43m)\u001b[49m\u001b[43m:\u001b[49m\n\u001b[1;32m      3\u001b[0m \u001b[43m    \u001b[49m\u001b[43mmeasured\u001b[49m\u001b[43m \u001b[49m\u001b[38;5;241;43m=\u001b[39;49m\u001b[43m \u001b[49m\u001b[43mdf\u001b[49m\u001b[43m[\u001b[49m\u001b[38;5;124;43m\"\u001b[39;49m\u001b[38;5;124;43mSalePrice\u001b[39;49m\u001b[38;5;124;43m\"\u001b[39;49m\u001b[43m]\u001b[49m\n\u001b[1;32m      4\u001b[0m \u001b[43m    \u001b[49m\u001b[43mCOLORS\u001b[49m\u001b[43m \u001b[49m\u001b[38;5;241;43m=\u001b[39;49m\u001b[43m \u001b[49m\u001b[43m[\u001b[49m\u001b[38;5;124;43m\"\u001b[39;49m\u001b[38;5;124;43mred\u001b[39;49m\u001b[38;5;124;43m\"\u001b[39;49m\u001b[43m,\u001b[49m\u001b[43m \u001b[49m\u001b[38;5;124;43m\"\u001b[39;49m\u001b[38;5;124;43mblue\u001b[39;49m\u001b[38;5;124;43m\"\u001b[39;49m\u001b[43m,\u001b[49m\u001b[43m \u001b[49m\u001b[38;5;124;43m\"\u001b[39;49m\u001b[38;5;124;43mgreen\u001b[39;49m\u001b[38;5;124;43m\"\u001b[39;49m\u001b[43m,\u001b[49m\u001b[43m \u001b[49m\u001b[38;5;124;43m\"\u001b[39;49m\u001b[38;5;124;43morange\u001b[39;49m\u001b[38;5;124;43m\"\u001b[39;49m\u001b[43m,\u001b[49m\u001b[43m \u001b[49m\u001b[38;5;124;43m\"\u001b[39;49m\u001b[38;5;124;43myellow\u001b[39;49m\u001b[38;5;124;43m\"\u001b[39;49m\u001b[43m,\u001b[49m\u001b[43m \u001b[49m\u001b[38;5;124;43m\"\u001b[39;49m\u001b[38;5;124;43mgray\u001b[39;49m\u001b[38;5;124;43m\"\u001b[39;49m\u001b[43m,\u001b[49m\u001b[43m \u001b[49m\u001b[38;5;124;43m\"\u001b[39;49m\u001b[38;5;124;43mcyan\u001b[39;49m\u001b[38;5;124;43m\"\u001b[39;49m\u001b[43m,\u001b[49m\u001b[43m \u001b[49m\u001b[38;5;124;43m\"\u001b[39;49m\u001b[38;5;124;43mpurple\u001b[39;49m\u001b[38;5;124;43m\"\u001b[39;49m\u001b[43m]\u001b[49m\n",
      "File \u001b[0;32m/Library/Frameworks/Python.framework/Versions/3.10/lib/python3.10/site-packages/ipywidgets/widgets/interaction.py:529\u001b[0m, in \u001b[0;36m_InteractFactory.__call__\u001b[0;34m(self, _InteractFactory__interact_f, **kwargs)\u001b[0m\n\u001b[1;32m    521\u001b[0m     \u001b[38;5;28;01mreturn\u001b[39;00m \u001b[38;5;28mself\u001b[39m\n\u001b[1;32m    523\u001b[0m \u001b[38;5;66;03m# positional arg support in: https://gist.github.com/8851331\u001b[39;00m\n\u001b[1;32m    524\u001b[0m \u001b[38;5;66;03m# Handle the cases 1 and 2\u001b[39;00m\n\u001b[1;32m    525\u001b[0m \u001b[38;5;66;03m# 1. interact(f, **kwargs)\u001b[39;00m\n\u001b[1;32m    526\u001b[0m \u001b[38;5;66;03m# 2. @interact\u001b[39;00m\n\u001b[1;32m    527\u001b[0m \u001b[38;5;66;03m#    def f(*args, **kwargs):\u001b[39;00m\n\u001b[1;32m    528\u001b[0m \u001b[38;5;66;03m#        ...\u001b[39;00m\n\u001b[0;32m--> 529\u001b[0m w \u001b[38;5;241m=\u001b[39m \u001b[38;5;28;43mself\u001b[39;49m\u001b[38;5;241;43m.\u001b[39;49m\u001b[43mwidget\u001b[49m\u001b[43m(\u001b[49m\u001b[43mf\u001b[49m\u001b[43m)\u001b[49m\n\u001b[1;32m    530\u001b[0m \u001b[38;5;28;01mtry\u001b[39;00m:\n\u001b[1;32m    531\u001b[0m     f\u001b[38;5;241m.\u001b[39mwidget \u001b[38;5;241m=\u001b[39m w\n",
      "File \u001b[0;32m/Library/Frameworks/Python.framework/Versions/3.10/lib/python3.10/site-packages/ipywidgets/widgets/interaction.py:445\u001b[0m, in \u001b[0;36m_InteractFactory.widget\u001b[0;34m(self, f)\u001b[0m\n\u001b[1;32m    429\u001b[0m \u001b[38;5;28;01mdef\u001b[39;00m \u001b[38;5;21mwidget\u001b[39m(\u001b[38;5;28mself\u001b[39m, f):\n\u001b[1;32m    430\u001b[0m     \u001b[38;5;124;03m\"\"\"\u001b[39;00m\n\u001b[1;32m    431\u001b[0m \u001b[38;5;124;03m    Return an interactive function widget for the given function.\u001b[39;00m\n\u001b[1;32m    432\u001b[0m \n\u001b[0;32m   (...)\u001b[0m\n\u001b[1;32m    443\u001b[0m \u001b[38;5;124;03m        The function to which the interactive widgets are tied.\u001b[39;00m\n\u001b[1;32m    444\u001b[0m \u001b[38;5;124;03m    \"\"\"\u001b[39;00m\n\u001b[0;32m--> 445\u001b[0m     \u001b[38;5;28;01mreturn\u001b[39;00m \u001b[38;5;28;43mself\u001b[39;49m\u001b[38;5;241;43m.\u001b[39;49m\u001b[43mcls\u001b[49m\u001b[43m(\u001b[49m\u001b[43mf\u001b[49m\u001b[43m,\u001b[49m\u001b[43m \u001b[49m\u001b[38;5;28;43mself\u001b[39;49m\u001b[38;5;241;43m.\u001b[39;49m\u001b[43mopts\u001b[49m\u001b[43m,\u001b[49m\u001b[43m \u001b[49m\u001b[38;5;241;43m*\u001b[39;49m\u001b[38;5;241;43m*\u001b[39;49m\u001b[38;5;28;43mself\u001b[39;49m\u001b[38;5;241;43m.\u001b[39;49m\u001b[43mkwargs\u001b[49m\u001b[43m)\u001b[49m\n",
      "File \u001b[0;32m/Library/Frameworks/Python.framework/Versions/3.10/lib/python3.10/site-packages/ipywidgets/widgets/interaction.py:189\u001b[0m, in \u001b[0;36minteractive.__init__\u001b[0;34m(self, _interactive__interact_f, _interactive__options, **kwargs)\u001b[0m\n\u001b[1;32m    186\u001b[0m \u001b[38;5;28mself\u001b[39m\u001b[38;5;241m.\u001b[39mmanual_name \u001b[38;5;241m=\u001b[39m __options\u001b[38;5;241m.\u001b[39mget(\u001b[38;5;124m\"\u001b[39m\u001b[38;5;124mmanual_name\u001b[39m\u001b[38;5;124m\"\u001b[39m, \u001b[38;5;124m\"\u001b[39m\u001b[38;5;124mRun Interact\u001b[39m\u001b[38;5;124m\"\u001b[39m)\n\u001b[1;32m    187\u001b[0m \u001b[38;5;28mself\u001b[39m\u001b[38;5;241m.\u001b[39mauto_display \u001b[38;5;241m=\u001b[39m __options\u001b[38;5;241m.\u001b[39mget(\u001b[38;5;124m\"\u001b[39m\u001b[38;5;124mauto_display\u001b[39m\u001b[38;5;124m\"\u001b[39m, \u001b[38;5;28;01mFalse\u001b[39;00m)\n\u001b[0;32m--> 189\u001b[0m new_kwargs \u001b[38;5;241m=\u001b[39m \u001b[38;5;28;43mself\u001b[39;49m\u001b[38;5;241;43m.\u001b[39;49m\u001b[43mfind_abbreviations\u001b[49m\u001b[43m(\u001b[49m\u001b[43mkwargs\u001b[49m\u001b[43m)\u001b[49m\n\u001b[1;32m    190\u001b[0m \u001b[38;5;66;03m# Before we proceed, let's make sure that the user has passed a set of args+kwargs\u001b[39;00m\n\u001b[1;32m    191\u001b[0m \u001b[38;5;66;03m# that will lead to a valid call of the function. This protects against unspecified\u001b[39;00m\n\u001b[1;32m    192\u001b[0m \u001b[38;5;66;03m# and doubly-specified arguments.\u001b[39;00m\n\u001b[1;32m    193\u001b[0m \u001b[38;5;28;01mtry\u001b[39;00m:\n",
      "File \u001b[0;32m/Library/Frameworks/Python.framework/Versions/3.10/lib/python3.10/site-packages/ipywidgets/widgets/interaction.py:289\u001b[0m, in \u001b[0;36minteractive.find_abbreviations\u001b[0;34m(self, kwargs)\u001b[0m\n\u001b[1;32m    287\u001b[0m     \u001b[38;5;28;01mfor\u001b[39;00m name, value, default \u001b[38;5;129;01min\u001b[39;00m _yield_abbreviations_for_parameter(param, kwargs):\n\u001b[1;32m    288\u001b[0m         \u001b[38;5;28;01mif\u001b[39;00m value \u001b[38;5;129;01mis\u001b[39;00m empty:\n\u001b[0;32m--> 289\u001b[0m             \u001b[38;5;28;01mraise\u001b[39;00m \u001b[38;5;167;01mValueError\u001b[39;00m(\u001b[38;5;124m'\u001b[39m\u001b[38;5;124mcannot find widget or abbreviation for argument: \u001b[39m\u001b[38;5;132;01m{!r}\u001b[39;00m\u001b[38;5;124m'\u001b[39m\u001b[38;5;241m.\u001b[39mformat(name))\n\u001b[1;32m    290\u001b[0m         new_kwargs\u001b[38;5;241m.\u001b[39mappend((name, value, default))\n\u001b[1;32m    291\u001b[0m \u001b[38;5;28;01mreturn\u001b[39;00m new_kwargs\n",
      "\u001b[0;31mValueError\u001b[0m: cannot find widget or abbreviation for argument: 'rank'"
     ]
    }
   ],
   "source": [
    "def f(rank):\n",
    "    measured = df[\"SalePrice\"]\n",
    "    COLORS = [\"red\", \"blue\", \"green\", \"orange\", \"yellow\", \"gray\", \"cyan\", \"purple\"]\n",
    "    model = {}\n",
    "    xp = np.linspace(1, df[attribute].max()+df[attribute].mean()/4, 20)\n",
    "    \n",
    "    for i in range(1, rank+1):\n",
    "        data_reg = np.polyfit(df[attribute], df[\"SalePrice\"], i)\n",
    "        predicted = np.polyval(data_reg, df[attribute].tolist())\n",
    "        if i == 1:\n",
    "            model[i] = [data_reg,\n",
    "                             predicted,\n",
    "                             stats.pearsonr(predicted, measured)[0]]\n",
    "\n",
    "        elif i > 1:\n",
    "            model[i] = [data_reg,\n",
    "                             predicted,\n",
    "                             stats.spearmanr(predicted, measured)[0]]\n",
    "    \n",
    "    fig = plt.figure(figsize=(9,5))\n",
    "    ax = plt.axes()\n",
    "    plt.scatter(df[attribute], df[\"SalePrice\"], label = f\"degree : correlation\", color=\"black\")\n",
    "    for i in range(1, rank+1):\n",
    "        ax.plot(xp, np.polyval(model[i][0], xp), label = f\"{i} : {round(model[i][2], 3)}\", color = COLORS[i-1] )\n",
    "    \n",
    "    ax.set_ylim(bottom=0, top = df[\"SalePrice\"].max()+df[\"SalePrice\"].mean()/4)\n",
    "    ax.set_xlim(0, df[attribute].max()+df[attribute].mean()/4)\n",
    "    ax.set_title(\"\")\n",
    "    #ax.set_title(f\"SalePrice vs GrLivArea, R2= {round(R2, 3)}\")\n",
    "    ax.set_xlabel(f\"{attribute}\")\n",
    "    ax.set_ylabel(\"SalePrice\")\n",
    "    ax.grid()\n",
    "    ax.legend()"
   ]
  },
  {
   "cell_type": "code",
   "execution_count": 62,
   "id": "1813191d",
   "metadata": {},
   "outputs": [
    {
     "data": {
      "application/vnd.jupyter.widget-view+json": {
       "model_id": "cb5bd96512584b279ad7f5ec1a813c5b",
       "version_major": 2,
       "version_minor": 0
      },
      "text/plain": [
       "interactive(children=(IntSlider(value=3, description='rank', max=6, min=1), Output()), _dom_classes=('widget-i…"
      ]
     },
     "metadata": {},
     "output_type": "display_data"
    }
   ],
   "source": [
    "interactive_plot = interactive(f, rank=(1, 6))\n",
    "interactive_plot"
   ]
  },
  {
   "cell_type": "code",
   "execution_count": 22,
   "id": "5be6b5df",
   "metadata": {},
   "outputs": [
    {
     "data": {
      "application/vnd.jupyter.widget-view+json": {
       "model_id": "915040c5ed98493dbc54ef48b70338f5",
       "version_major": 2,
       "version_minor": 0
      },
      "text/plain": [
       "interactive(children=(FloatSlider(value=0.0, description='m', max=2.0, min=-2.0), FloatSlider(value=0.0, descr…"
      ]
     },
     "metadata": {},
     "output_type": "display_data"
    }
   ],
   "source": [
    "def f(m, b):\n",
    "    plt.figure(2)\n",
    "    x = np.linspace(-10, 10, num=1000)\n",
    "    plt.plot(x, m * x + b)\n",
    "    plt.ylim(-5, 5)\n",
    "    plt.show()\n",
    "\n",
    "interactive_plot = interactive(f, m=(-2.0, 2.0), b=(-3, 3, 0.5))\n",
    "output = interactive_plot.children[-1]\n",
    "output.layout.height = '350px'\n",
    "interactive_plot"
   ]
  },
  {
   "cell_type": "code",
   "execution_count": 35,
   "id": "cb7e82ad",
   "metadata": {},
   "outputs": [],
   "source": [
    "deg = 1\n",
    "attribute = \"GrLivArea\"\n",
    "data_reg = np.polyfit(df[attribute], df[\"SalePrice\"], deg)\n",
    "data_reg2 = np.polyfit(df[attribute], df[\"SalePrice\"], deg+1)"
   ]
  },
  {
   "cell_type": "code",
   "execution_count": 36,
   "id": "26fb0b35",
   "metadata": {},
   "outputs": [],
   "source": [
    "predicted = np.polyval(data_reg, df[attribute].tolist())\n",
    "measured = df[\"SalePrice\"]\n",
    "corr1 = stats.pearsonr(predicted, measured)[0]\n",
    "corr2 = stats.spearmanr(predicted, measured)[0]"
   ]
  },
  {
   "cell_type": "code",
   "execution_count": 46,
   "id": "fd9b41ac",
   "metadata": {},
   "outputs": [
    {
     "data": {
      "text/plain": [
       "<matplotlib.legend.Legend at 0x11e515bd0>"
      ]
     },
     "execution_count": 46,
     "metadata": {},
     "output_type": "execute_result"
    },
    {
     "data": {
      "image/png": "[encoded data removed]",
      "text/plain": [
       "<Figure size 648x360 with 1 Axes>"
      ]
     },
     "metadata": {
      "needs_background": "light"
     },
     "output_type": "display_data"
    }
   ],
   "source": [
    "xp = np.linspace(1, df[attribute].max()+df[attribute].mean()/4, 20)\n",
    "fig = plt.figure(figsize=(9,5))\n",
    "ax = plt.axes()\n",
    "plt.scatter(df[attribute], df[\"SalePrice\"], label = f\"degree : correlation\", color=\"black\")\n",
    "ax.plot(xp, np.polyval(data_reg, xp), label = f\"1 : {round(corr1, 3)}\", color = \"red\")\n",
    "ax.plot(xp, np.polyval(data_reg2, xp), label = f\"2 : {round(corr2, 3)}\", color = \"blue\")\n",
    "\n",
    "ax.set_ylim(bottom=0, top = df[\"SalePrice\"].max()+df[\"SalePrice\"].mean()/4)\n",
    "ax.set_xlim(0, df[attribute].max()+df[attribute].mean()/4)\n",
    "ax.set_title(\"\")\n",
    "#ax.set_title(f\"SalePrice vs GrLivArea, R2= {round(R2, 3)}\")\n",
    "ax.set_xlabel(f\"{attribute}\")\n",
    "ax.set_ylabel(\"SalePrice\")\n",
    "ax.grid()\n",
    "ax.legend()"
   ]
  },
  {
   "cell_type": "code",
   "execution_count": null,
   "id": "9506d456",
   "metadata": {},
   "outputs": [],
   "source": []
  }
 ],
 "metadata": {
  "kernelspec": {
   "display_name": "Python 3 (ipykernel)",
   "language": "python",
   "name": "python3"
  },
  "language_info": {
   "codemirror_mode": {
    "name": "ipython",
    "version": 3
   },
   "file_extension": ".py",
   "mimetype": "text/x-python",
   "name": "python",
   "nbconvert_exporter": "python",
   "pygments_lexer": "ipython3",
   "version": "3.10.0"
  }
 },
 "nbformat": 4,
 "nbformat_minor": 5
}
