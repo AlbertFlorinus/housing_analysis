{
  "cells": [
    {
      "cell_type": "markdown",
      "metadata": {
        "id": "view-in-github",
        "colab_type": "text"
      },
      "source": [
        "<a href=\"https://colab.research.google.com/github/AlbertFlorinus/housing_analysis/blob/master/final_demo.ipynb\" target=\"_parent\"><img src=\"https://colab.research.google.com/assets/colab-badge.svg\" alt=\"Open In Colab\"/></a>"
      ]
    },
    {
      "cell_type": "markdown",
      "metadata": {
        "id": "U_cMeVQckwar"
      },
      "source": [
        "# **Regression using PCA Analysis**\n",
        "\n",
        "## **Introduction**\n",
        "\n",
        "<p>The amount of variables contained within housing dataset are of varying degree of importance for predicted sales price. While intuition would lead one to believe that the area of the property contributes more to the sales price than for example the number of fireplaces, manual selection feature selection is prone to bias and even impractical. This lab explores the use and advantage of Principal Component analysis (PCA) for selecting features to perform regression on. </p>"
      ]
    },
    {
      "cell_type": "markdown",
      "metadata": {
        "id": "psqNSrDumBWU"
      },
      "source": [
        "## **Description of PCA**\n",
        "<p>\n",
        "PCA is an unsupervised algorithm which calculates which features in a dataset best describe the data points overall.\n",
        " \n",
        "This does NOT mean that the features PCA ranks highest are the most useful for describing the class attribute of each datapoint. It does tend to eliminate redundant features. \n",
        "\n",
        "The score tells how a variance in a feature will affect the other features, a higher score will bring a higher effect.\n",
        "\n",
        "PCA is useful because it allows one to only use a subset of the dataset but still be able to keep a lot of information about the relations between the features.\n",
        "</p>"
      ]
    },
    {
      "cell_type": "markdown",
      "metadata": {
        "id": "NRRvx4oRnSqw"
      },
      "source": [
        "## **Research Question**\n",
        "### Does regressions modeled after PCA-chosen attributes outperform regressions modeled after randomly-chosen attributes?\n"
      ]
    },
    {
      "cell_type": "markdown",
      "metadata": {
        "id": "wAf4Deauo-6k"
      },
      "source": [
        "## Data Analysis\n",
        "<p>\n",
        "\n",
        "</p>"
      ]
    },
    {
      "cell_type": "markdown",
      "metadata": {
        "id": "NmyOink-r9PI"
      },
      "source": [
        "### Imports\n",
        "<p>For this lab we will be using several Python libraries, including: <br>\n",
        "Matplotlib, for interactive and noninteractive graphs. <br>\n",
        "Pandas, for dealing with large sets of data.<br>\n",
        "Numpy, for creating regression models and associated objects. <br>\n",
        "SciPy, for generating correlation coefficients. <br>\n",
        "sklearn, for their PCA algorithm. <br>\n",
        "iPyWidgets, for adding interactivity to the graphs.\n",
        "</p>"
      ]
    },
    {
      "cell_type": "code",
      "execution_count": null,
      "metadata": {
        "id": "32zNSc9Oicda"
      },
      "outputs": [],
      "source": [
        "%matplotlib inline\n",
        "import matplotlib.pyplot as plt\n",
        "import pandas as pd\n",
        "import numpy as np\n",
        "import math\n",
        "from scipy import stats\n",
        "from sklearn.decomposition import PCA\n",
        "import random\n",
        "\n",
        "import ipywidgets as widgets\n",
        "from ipywidgets import interact, interactive, Dropdown"
      ]
    },
    {
      "cell_type": "code",
      "execution_count": null,
      "metadata": {
        "colab": {
          "base_uri": "https://localhost:8080/"
        },
        "id": "83A3CaUeikpv",
        "outputId": "9030b830-d0e0-4fb7-dc30-7c07ec6a5967"
      },
      "outputs": [
        {
          "name": "stdout",
          "output_type": "stream",
          "text": [
            "Cloning into 'housing_analysis'...\n",
            "remote: Enumerating objects: 247, done.\u001b[K\n",
            "remote: Counting objects: 100% (247/247), done.\u001b[K\n",
            "remote: Compressing objects: 100% (179/179), done.\u001b[K\n",
            "remote: Total 247 (delta 125), reused 173 (delta 56), pack-reused 0\u001b[K\n",
            "Receiving objects: 100% (247/247), 6.11 MiB | 19.02 MiB/s, done.\n",
            "Resolving deltas: 100% (125/125), done.\n"
          ]
        }
      ],
      "source": [
        "!git clone https://github.com/AlbertFlorinus/housing_analysis"
      ]
    },
    {
      "cell_type": "code",
      "execution_count": null,
      "metadata": {
        "id": "2ZVJBpLji2Er"
      },
      "outputs": [],
      "source": [
        "#preprocessing and import\n",
        "df = pd.read_csv('/content/housing_analysis/house-data/train.csv')\n",
        "df = df[ df.select_dtypes(include=np.number).columns.tolist()]\n",
        "df.dropna(inplace=True)"
      ]
    },
    {
      "cell_type": "code",
      "execution_count": null,
      "metadata": {
        "id": "Qq7vBnwTjM61"
      },
      "outputs": [],
      "source": [
        "def pca_dec(data, n):\n",
        "  pca = PCA(n)\n",
        "  X_dec = pca.fit_transform(data)\n",
        "  return X_dec, pca\n",
        "\n",
        "#Decomposing the train set:\n",
        "pca_train_results, pca_train = pca_dec(df, 10)\n",
        "\n",
        "#Creating a table with the explained variance ratio\n",
        "names_pcas = [f\"PCA Component {i}\" for i in range(1, 11, 1)]\n",
        "scree = pd.DataFrame(list(zip(names_pcas, pca_train.explained_variance_ratio_)), columns=[\"Component\", \"Explained Variance Ratio\"])\n",
        "\n",
        "df_new = pd.DataFrame({'PCA':pca_train.components_[0], 'Variable Names':list(df.columns)})\n",
        "df_new = df_new.sort_values('PCA', ascending=False)"
      ]
    },
    {
      "cell_type": "code",
      "execution_count": null,
      "metadata": {
        "colab": {
          "base_uri": "https://localhost:8080/",
          "height": 206
        },
        "id": "qylxjDdTjPQs",
        "outputId": "53145dc2-d670-4d0c-f1d9-824e214029cf"
      },
      "outputs": [
        {
          "data": {
            "text/html": [
              "\n",
              "  <div id=\"df-2f330af5-a494-40a4-9125-41082d4ee80a\">\n",
              "    <div class=\"colab-df-container\">\n",
              "      <div>\n",
              "<style scoped>\n",
              "    .dataframe tbody tr th:only-of-type {\n",
              "        vertical-align: middle;\n",
              "    }\n",
              "\n",
              "    .dataframe tbody tr th {\n",
              "        vertical-align: top;\n",
              "    }\n",
              "\n",
              "    .dataframe thead th {\n",
              "        text-align: right;\n",
              "    }\n",
              "</style>\n",
              "<table border=\"1\" class=\"dataframe\">\n",
              "  <thead>\n",
              "    <tr style=\"text-align: right;\">\n",
              "      <th></th>\n",
              "      <th>PCA</th>\n",
              "      <th>Variable Names</th>\n",
              "    </tr>\n",
              "  </thead>\n",
              "  <tbody>\n",
              "    <tr>\n",
              "      <th>37</th>\n",
              "      <td>0.999535</td>\n",
              "      <td>SalePrice</td>\n",
              "    </tr>\n",
              "    <tr>\n",
              "      <th>3</th>\n",
              "      <td>0.029625</td>\n",
              "      <td>LotArea</td>\n",
              "    </tr>\n",
              "    <tr>\n",
              "      <th>16</th>\n",
              "      <td>0.004449</td>\n",
              "      <td>GrLivArea</td>\n",
              "    </tr>\n",
              "    <tr>\n",
              "      <th>12</th>\n",
              "      <td>0.003306</td>\n",
              "      <td>TotalBsmtSF</td>\n",
              "    </tr>\n",
              "    <tr>\n",
              "      <th>13</th>\n",
              "      <td>0.002830</td>\n",
              "      <td>1stFlrSF</td>\n",
              "    </tr>\n",
              "  </tbody>\n",
              "</table>\n",
              "</div>\n",
              "      <button class=\"colab-df-convert\" onclick=\"convertToInteractive('df-2f330af5-a494-40a4-9125-41082d4ee80a')\"\n",
              "              title=\"Convert this dataframe to an interactive table.\"\n",
              "              style=\"display:none;\">\n",
              "        \n",
              "  <svg xmlns=\"http://www.w3.org/2000/svg\" height=\"24px\"viewBox=\"0 0 24 24\"\n",
              "       width=\"24px\">\n",
              "    <path d=\"M0 0h24v24H0V0z\" fill=\"none\"/>\n",
              "    <path d=\"M18.56 5.44l.94 2.06.94-2.06 2.06-.94-2.06-.94-.94-2.06-.94 2.06-2.06.94zm-11 1L8.5 8.5l.94-2.06 2.06-.94-2.06-.94L8.5 2.5l-.94 2.06-2.06.94zm10 10l.94 2.06.94-2.06 2.06-.94-2.06-.94-.94-2.06-.94 2.06-2.06.94z\"/><path d=\"M17.41 7.96l-1.37-1.37c-.4-.4-.92-.59-1.43-.59-.52 0-1.04.2-1.43.59L10.3 9.45l-7.72 7.72c-.78.78-.78 2.05 0 2.83L4 21.41c.39.39.9.59 1.41.59.51 0 1.02-.2 1.41-.59l7.78-7.78 2.81-2.81c.8-.78.8-2.07 0-2.86zM5.41 20L4 18.59l7.72-7.72 1.47 1.35L5.41 20z\"/>\n",
              "  </svg>\n",
              "      </button>\n",
              "      \n",
              "  <style>\n",
              "    .colab-df-container {\n",
              "      display:flex;\n",
              "      flex-wrap:wrap;\n",
              "      gap: 12px;\n",
              "    }\n",
              "\n",
              "    .colab-df-convert {\n",
              "      background-color: #E8F0FE;\n",
              "      border: none;\n",
              "      border-radius: 50%;\n",
              "      cursor: pointer;\n",
              "      display: none;\n",
              "      fill: #1967D2;\n",
              "      height: 32px;\n",
              "      padding: 0 0 0 0;\n",
              "      width: 32px;\n",
              "    }\n",
              "\n",
              "    .colab-df-convert:hover {\n",
              "      background-color: #E2EBFA;\n",
              "      box-shadow: 0px 1px 2px rgba(60, 64, 67, 0.3), 0px 1px 3px 1px rgba(60, 64, 67, 0.15);\n",
              "      fill: #174EA6;\n",
              "    }\n",
              "\n",
              "    [theme=dark] .colab-df-convert {\n",
              "      background-color: #3B4455;\n",
              "      fill: #D2E3FC;\n",
              "    }\n",
              "\n",
              "    [theme=dark] .colab-df-convert:hover {\n",
              "      background-color: #434B5C;\n",
              "      box-shadow: 0px 1px 3px 1px rgba(0, 0, 0, 0.15);\n",
              "      filter: drop-shadow(0px 1px 2px rgba(0, 0, 0, 0.3));\n",
              "      fill: #FFFFFF;\n",
              "    }\n",
              "  </style>\n",
              "\n",
              "      <script>\n",
              "        const buttonEl =\n",
              "          document.querySelector('#df-2f330af5-a494-40a4-9125-41082d4ee80a button.colab-df-convert');\n",
              "        buttonEl.style.display =\n",
              "          google.colab.kernel.accessAllowed ? 'block' : 'none';\n",
              "\n",
              "        async function convertToInteractive(key) {\n",
              "          const element = document.querySelector('#df-2f330af5-a494-40a4-9125-41082d4ee80a');\n",
              "          const dataTable =\n",
              "            await google.colab.kernel.invokeFunction('convertToInteractive',\n",
              "                                                     [key], {});\n",
              "          if (!dataTable) return;\n",
              "\n",
              "          const docLinkHtml = 'Like what you see? Visit the ' +\n",
              "            '<a target=\"_blank\" href=https://colab.research.google.com/notebooks/data_table.ipynb>data table notebook</a>'\n",
              "            + ' to learn more about interactive tables.';\n",
              "          element.innerHTML = '';\n",
              "          dataTable['output_type'] = 'display_data';\n",
              "          await google.colab.output.renderOutput(dataTable, element);\n",
              "          const docLink = document.createElement('div');\n",
              "          docLink.innerHTML = docLinkHtml;\n",
              "          element.appendChild(docLink);\n",
              "        }\n",
              "      </script>\n",
              "    </div>\n",
              "  </div>\n",
              "  "
            ],
            "text/plain": [
              "         PCA Variable Names\n",
              "37  0.999535      SalePrice\n",
              "3   0.029625        LotArea\n",
              "16  0.004449      GrLivArea\n",
              "12  0.003306    TotalBsmtSF\n",
              "13  0.002830       1stFlrSF"
            ]
          },
          "execution_count": 5,
          "metadata": {},
          "output_type": "execute_result"
        }
      ],
      "source": [
        "#Sorting the absolute values of the first principal component by magnitude\n",
        "df2 = pd.DataFrame(df_new)\n",
        "df2['PCA']=df2['PCA'].apply(np.absolute)\n",
        "df2 = df2.sort_values('PCA', ascending=False)\n",
        "df_new.head()"
      ]
    },
    {
      "cell_type": "code",
      "execution_count": null,
      "metadata": {
        "id": "g9OBVbiJwsp_"
      },
      "outputs": [],
      "source": [
        "def statistic(data_reg,predicted, measured, attribute):\n",
        "    \"\"\"\n",
        "    For higher order regressions, determines whether to use kendall or spearman\n",
        "    \"\"\"\n",
        "    mono = True\n",
        "    der = np.polyder(data_reg)\n",
        "    roots = np.roots(der)\n",
        "            \n",
        "    for root in roots:\n",
        "        if 1 < root < df[attribute].max():\n",
        "            mono = False\n",
        "        if mono:\n",
        "            return [data_reg,predicted,stats.spearmanr(predicted, measured)[0], attribute]\n",
        "        else:\n",
        "            return [data_reg,predicted,stats.kendalltau(predicted, measured)[0],attribute]"
      ]
    },
    {
      "cell_type": "code",
      "execution_count": null,
      "metadata": {
        "id": "jeoc2kSlwv8B"
      },
      "outputs": [],
      "source": [
        "def regress(degree, attribute):\n",
        "    \"\"\"\n",
        "    performs regression on given attribute with degree\n",
        "    \"\"\"\n",
        "    measured = df[\"SalePrice\"]\n",
        "    model = {}\n",
        "    xp = np.linspace(1, df[attribute].max()+df[attribute].mean()/4, 20)\n",
        "    \n",
        "    data_reg = np.polyfit(df[attribute], df[\"SalePrice\"], degree)\n",
        "    predicted = np.polyval(data_reg, df[attribute].tolist())\n",
        "    \n",
        "    if degree == 1:\n",
        "        #use pearson\n",
        "        model[attribute] = [data_reg, predicted, stats.pearsonr(predicted, measured)[0], attribute]\n",
        "    \n",
        "    elif degree > 1:\n",
        "        #use function statistic to determine type of correlation coefficient\n",
        "        model[attribute] = statistic(data_reg,predicted, measured, attribute)\n",
        "\n",
        "    return model"
      ]
    },
    {
      "cell_type": "code",
      "execution_count": null,
      "metadata": {
        "id": "I2RdYlXcjT4h"
      },
      "outputs": [],
      "source": [
        "def mean_correlation(feature_collection:dict):\n",
        "    \"\"\"\n",
        "    helper function for factor_test\n",
        "    \"\"\"\n",
        "    n = len(feature_collection)\n",
        "    avg_correlation = sum( np.array( list(feature_collection.values()) )[:,1] )/n\n",
        "    return avg_correlation"
      ]
    },
    {
      "cell_type": "code",
      "execution_count": null,
      "metadata": {
        "id": "P535UpsIjUSp"
      },
      "outputs": [],
      "source": [
        "def factor_test(degree:int, features:list):\n",
        "    \"\"\"\n",
        "    performs single variable regression on all inputed features,\n",
        "    returns the mean correlation\n",
        "    \"\"\"\n",
        "    feature_collection = {i:[degree, regress(degree, i)[i][2]] for i in features}\n",
        "    return mean_correlation(feature_collection)"
      ]
    },
    {
      "cell_type": "code",
      "execution_count": null,
      "metadata": {
        "id": "QKCRk8m_jWv_"
      },
      "outputs": [],
      "source": [
        "#list of features ordered by PCA rank, first element(salesprice removed)\n",
        "PCA_features = df_new[\"Variable Names\"].tolist()[1:]"
      ]
    },
    {
      "cell_type": "code",
      "execution_count": null,
      "metadata": {
        "id": "rFbmK_s-w7Kk"
      },
      "outputs": [],
      "source": [
        "def n_taken(rank):\n",
        "    \"\"\"\n",
        "    rank is the degree for the regression\n",
        "    \"\"\"\n",
        "    n_used = [i for i in range(1,len(df.keys())+1)]\n",
        "\n",
        "    n_corr = []\n",
        "\n",
        "    for n in n_used:\n",
        "        n_corr.append( factor_test(rank, PCA_features[:n]) )\n",
        "    \n",
        "    n_ran_used = [i for i in range(1, len(df.keys())+1)]\n",
        "    n_ran_corr = []\n",
        "\n",
        "    for n in n_ran_used:\n",
        "        count = 0\n",
        "        m = 50\n",
        "        for i in range(m):\n",
        "            #take n random features m times\n",
        "            features = random.sample(list(df.keys()), n)\n",
        "            count += factor_test(rank, features)\n",
        "\n",
        "        avg_c = count/m\n",
        "        n_ran_corr.append(avg_c)\n",
        "    \n",
        "    return [[n_used, n_corr],[n_ran_used, n_ran_corr]]"
      ]
    },
    {
      "cell_type": "code",
      "execution_count": null,
      "metadata": {
        "colab": {
          "background_save": true
        },
        "id": "-Ik5pnSbw-Y8"
      },
      "outputs": [],
      "source": [
        "models = {1: n_taken(1), 2: n_taken(2), 3: n_taken(3)}"
      ]
    },
    {
      "cell_type": "code",
      "execution_count": null,
      "metadata": {
        "colab": {
          "base_uri": "https://localhost:8080/",
          "height": 631,
          "referenced_widgets": [
            "3fe703c11f574d08b5a0f5a429842b9b",
            "0c43d251916243e5bc31976ff4908b96",
            "0d01711e34c04575aa46c419561f88b6",
            "1c930fe03ce843749daaa814e988b25f",
            "ed74a1d5f3394272aa4347c820c9940d",
            "59bfb61e218846878101ce3ddec649a1",
            "279a62a8a1a44b388e84ac7fdc144bd6",
            "5acb5485ce1d4f7da2516e0db473cc36",
            "d8b5fd653b1f45d8ae96289af977d499",
            "ab72540bf0184e8695d76432206b85ef"
          ]
        },
        "id": "Q3DsVfMdjg5t",
        "outputId": "aa5caec7-eb01-4e09-d18a-34f575cbeff2"
      },
      "outputs": [
        {
          "output_type": "display_data",
          "data": {
            "text/plain": [
              "interactive(children=(IntSlider(value=3, description='degree', max=6, min=1), Dropdown(description='attribute'…"
            ],
            "application/vnd.jupyter.widget-view+json": {
              "version_major": 2,
              "version_minor": 0,
              "model_id": "3fe703c11f574d08b5a0f5a429842b9b"
            }
          },
          "metadata": {}
        }
      ],
      "source": [
        "#interactive plotter\n",
        "attribute = Dropdown(options = df.keys())\n",
        "@interact(degree = (1, 6), attribute = attribute)\n",
        "def g(degree, attribute):\n",
        "    measured = df[\"SalePrice\"]\n",
        "    COLORS = [\"red\", \"blue\", \"green\", \"orange\", \"yellow\", \"gray\", \"cyan\", \"purple\"]\n",
        "    model = {}\n",
        "    xp = np.linspace(1, df[attribute].max()+df[attribute].mean()/4, 20)\n",
        "    for i in range(1, degree+1):\n",
        "        data_reg = np.polyfit(df[attribute], df[\"SalePrice\"], i)\n",
        "        predicted = np.polyval(data_reg, df[attribute].tolist())\n",
        "        if i == 1:\n",
        "            model[i] = [data_reg,\n",
        "                             predicted,\n",
        "                             stats.pearsonr(predicted, measured)[0]]\n",
        "        \n",
        "        \n",
        "        elif i > 1:\n",
        "            model[i] = statistic(data_reg, predicted, measured, attribute )\n",
        "\n",
        "    fig = plt.figure(figsize=(14,9))\n",
        "    ax = plt.axes()\n",
        "    plt.scatter(df[attribute], df[\"SalePrice\"], label = f\"degree : correlation\", color=\"black\")\n",
        "    for i in range(1, degree+1):\n",
        "        ax.plot(xp, np.polyval(model[i][0], xp), label = f\"{i} : {round(model[i][2], 5)}\", color = COLORS[i-1] )\n",
        "    \n",
        "    ax.set_ylim(bottom=0, top = df[\"SalePrice\"].max()+df[\"SalePrice\"].mean()/4)\n",
        "    ax.set_xlim(0, df[attribute].max()+df[attribute].mean()/4)\n",
        "    ax.set_title(\"\")\n",
        "    ax.set_title(f\"SalePrice vs {attribute}\")\n",
        "    ax.set_xlabel(f\"{attribute}\")\n",
        "    ax.set_ylabel(\"SalePrice\")\n",
        "    ax.grid()\n",
        "    ax.legend()"
      ]
    },
    {
      "cell_type": "code",
      "execution_count": null,
      "metadata": {
        "colab": {
          "base_uri": "https://localhost:8080/",
          "height": 382,
          "referenced_widgets": [
            "1da4328f7a9d49de83dae0686fc8a5dd",
            "82ebe73068ab4c62a811640738bc00bd",
            "dcf1663ac13d42ec83dd4b72ff0cac96",
            "86e71362257746ce88262e68e5c8a3e9",
            "607fbd62d23c4982af3005eb0a73286e",
            "378d8fd32cf24e248aa255804f4c6dca",
            "7c233d1748c849eeb8ce30feca837347"
          ]
        },
        "id": "V3fLQx9rjbHO",
        "outputId": "fee5049d-5cea-42a0-e90e-a0fe804ceba5"
      },
      "outputs": [
        {
          "output_type": "display_data",
          "data": {
            "text/plain": [
              "interactive(children=(IntSlider(value=2, description='degree', max=3, min=1), Output()), _dom_classes=('widget…"
            ],
            "application/vnd.jupyter.widget-view+json": {
              "version_major": 2,
              "version_minor": 0,
              "model_id": "1da4328f7a9d49de83dae0686fc8a5dd"
            }
          },
          "metadata": {}
        }
      ],
      "source": [
        "@interact(degree = (1, 3))\n",
        "def pcm(degree):\n",
        "    fig = plt.figure(figsize=(9,5))\n",
        "    ax = fig.add_subplot()\n",
        "\n",
        "    ax.plot(models[degree][0][0],models[degree][0][1],color=\"green\", label=\"mean_correlation(n)\")\n",
        "    ax.plot(models[degree][1][0],models[degree][1][1], color=\"blue\", label = \"mean_correlation(n_random)\")\n",
        "    ax.set_xlabel(\"n features\")\n",
        "    ax.set_ylabel(\"Mean correlation\")\n",
        "    ax.set_title(\"Mean correlation of lin reg by amount of PCA features used\")\n",
        "    #renders legends in the plot\n",
        "    ax.legend() \n",
        "    ax.grid()"
      ]
    },
    {
      "cell_type": "markdown",
      "metadata": {
        "id": "8Y-w1Bhfp0h1"
      },
      "source": [
        "## Conclusion\n",
        "<p>\n",
        "As seen in the figure above, featurs highly ranked by PCA coincide with a higher mean correlation coefficent when compared to randomly chosen features. Raising the amount of PCA features lowers the mean correlation coefficient, a result of including less predictive features. The large increase in mean correlation coefficient for PCA features up to n=4 can be explained in part by the highest ranked feature, LotArea performing poorly for predicting SalesPrice. Randomly chosen features consistently underperforms PCA ranked features, and only gets matching performance when the number of features approaches all features available. This confirms the hypothesis that features selected by PCA rank tend to outperform random features for modelling a regression.\n",
        "</p>"
      ]
    }
  ],
  "metadata": {
    "colab": {
      "collapsed_sections": [],
      "name": "pca-comparison.ipynb",
      "provenance": [],
      "include_colab_link": true
    },
    "kernelspec": {
      "display_name": "Python 3",
      "name": "python3"
    },
    "language_info": {
      "name": "python"
    },
    "widgets": {
      "application/vnd.jupyter.widget-state+json": {
        "3fe703c11f574d08b5a0f5a429842b9b": {
          "model_module": "@jupyter-widgets/controls",
          "model_name": "VBoxModel",
          "model_module_version": "1.5.0",
          "state": {
            "_dom_classes": [
              "widget-interact"
            ],
            "_model_module": "@jupyter-widgets/controls",
            "_model_module_version": "1.5.0",
            "_model_name": "VBoxModel",
            "_view_count": null,
            "_view_module": "@jupyter-widgets/controls",
            "_view_module_version": "1.5.0",
            "_view_name": "VBoxView",
            "box_style": "",
            "children": [
              "IPY_MODEL_0c43d251916243e5bc31976ff4908b96",
              "IPY_MODEL_0d01711e34c04575aa46c419561f88b6",
              "IPY_MODEL_1c930fe03ce843749daaa814e988b25f"
            ],
            "layout": "IPY_MODEL_ed74a1d5f3394272aa4347c820c9940d"
          }
        },
        "0c43d251916243e5bc31976ff4908b96": {
          "model_module": "@jupyter-widgets/controls",
          "model_name": "IntSliderModel",
          "model_module_version": "1.5.0",
          "state": {
            "_dom_classes": [],
            "_model_module": "@jupyter-widgets/controls",
            "_model_module_version": "1.5.0",
            "_model_name": "IntSliderModel",
            "_view_count": null,
            "_view_module": "@jupyter-widgets/controls",
            "_view_module_version": "1.5.0",
            "_view_name": "IntSliderView",
            "continuous_update": true,
            "description": "degree",
            "description_tooltip": null,
            "disabled": false,
            "layout": "IPY_MODEL_59bfb61e218846878101ce3ddec649a1",
            "max": 6,
            "min": 1,
            "orientation": "horizontal",
            "readout": true,
            "readout_format": "d",
            "step": 1,
            "style": "IPY_MODEL_279a62a8a1a44b388e84ac7fdc144bd6",
            "value": 3
          }
        },
        "0d01711e34c04575aa46c419561f88b6": {
          "model_module": "@jupyter-widgets/controls",
          "model_name": "DropdownModel",
          "model_module_version": "1.5.0",
          "state": {
            "_dom_classes": [],
            "_model_module": "@jupyter-widgets/controls",
            "_model_module_version": "1.5.0",
            "_model_name": "DropdownModel",
            "_options_labels": [
              "Id",
              "MSSubClass",
              "LotFrontage",
              "LotArea",
              "OverallQual",
              "OverallCond",
              "YearBuilt",
              "YearRemodAdd",
              "MasVnrArea",
              "BsmtFinSF1",
              "BsmtFinSF2",
              "BsmtUnfSF",
              "TotalBsmtSF",
              "1stFlrSF",
              "2ndFlrSF",
              "LowQualFinSF",
              "GrLivArea",
              "BsmtFullBath",
              "BsmtHalfBath",
              "FullBath",
              "HalfBath",
              "BedroomAbvGr",
              "KitchenAbvGr",
              "TotRmsAbvGrd",
              "Fireplaces",
              "GarageYrBlt",
              "GarageCars",
              "GarageArea",
              "WoodDeckSF",
              "OpenPorchSF",
              "EnclosedPorch",
              "3SsnPorch",
              "ScreenPorch",
              "PoolArea",
              "MiscVal",
              "MoSold",
              "YrSold",
              "SalePrice"
            ],
            "_view_count": null,
            "_view_module": "@jupyter-widgets/controls",
            "_view_module_version": "1.5.0",
            "_view_name": "DropdownView",
            "description": "attribute",
            "description_tooltip": null,
            "disabled": false,
            "index": 3,
            "layout": "IPY_MODEL_5acb5485ce1d4f7da2516e0db473cc36",
            "style": "IPY_MODEL_d8b5fd653b1f45d8ae96289af977d499"
          }
        },
        "1c930fe03ce843749daaa814e988b25f": {
          "model_module": "@jupyter-widgets/output",
          "model_name": "OutputModel",
          "model_module_version": "1.0.0",
          "state": {
            "_dom_classes": [],
            "_model_module": "@jupyter-widgets/output",
            "_model_module_version": "1.0.0",
            "_model_name": "OutputModel",
            "_view_count": null,
            "_view_module": "@jupyter-widgets/output",
            "_view_module_version": "1.0.0",
            "_view_name": "OutputView",
            "layout": "IPY_MODEL_ab72540bf0184e8695d76432206b85ef",
            "msg_id": "",
            "outputs": [
              {
                "output_type": "display_data",
                "data": {
                  "text/plain": "<Figure size 1008x648 with 1 Axes>",
                  "image/png": "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\n"
                },
                "metadata": {
                  "needs_background": "light"
                }
              }
            ]
          }
        },
        "ed74a1d5f3394272aa4347c820c9940d": {
          "model_module": "@jupyter-widgets/base",
          "model_name": "LayoutModel",
          "model_module_version": "1.2.0",
          "state": {
            "_model_module": "@jupyter-widgets/base",
            "_model_module_version": "1.2.0",
            "_model_name": "LayoutModel",
            "_view_count": null,
            "_view_module": "@jupyter-widgets/base",
            "_view_module_version": "1.2.0",
            "_view_name": "LayoutView",
            "align_content": null,
            "align_items": null,
            "align_self": null,
            "border": null,
            "bottom": null,
            "display": null,
            "flex": null,
            "flex_flow": null,
            "grid_area": null,
            "grid_auto_columns": null,
            "grid_auto_flow": null,
            "grid_auto_rows": null,
            "grid_column": null,
            "grid_gap": null,
            "grid_row": null,
            "grid_template_areas": null,
            "grid_template_columns": null,
            "grid_template_rows": null,
            "height": null,
            "justify_content": null,
            "justify_items": null,
            "left": null,
            "margin": null,
            "max_height": null,
            "max_width": null,
            "min_height": null,
            "min_width": null,
            "object_fit": null,
            "object_position": null,
            "order": null,
            "overflow": null,
            "overflow_x": null,
            "overflow_y": null,
            "padding": null,
            "right": null,
            "top": null,
            "visibility": null,
            "width": null
          }
        },
        "59bfb61e218846878101ce3ddec649a1": {
          "model_module": "@jupyter-widgets/base",
          "model_name": "LayoutModel",
          "model_module_version": "1.2.0",
          "state": {
            "_model_module": "@jupyter-widgets/base",
            "_model_module_version": "1.2.0",
            "_model_name": "LayoutModel",
            "_view_count": null,
            "_view_module": "@jupyter-widgets/base",
            "_view_module_version": "1.2.0",
            "_view_name": "LayoutView",
            "align_content": null,
            "align_items": null,
            "align_self": null,
            "border": null,
            "bottom": null,
            "display": null,
            "flex": null,
            "flex_flow": null,
            "grid_area": null,
            "grid_auto_columns": null,
            "grid_auto_flow": null,
            "grid_auto_rows": null,
            "grid_column": null,
            "grid_gap": null,
            "grid_row": null,
            "grid_template_areas": null,
            "grid_template_columns": null,
            "grid_template_rows": null,
            "height": null,
            "justify_content": null,
            "justify_items": null,
            "left": null,
            "margin": null,
            "max_height": null,
            "max_width": null,
            "min_height": null,
            "min_width": null,
            "object_fit": null,
            "object_position": null,
            "order": null,
            "overflow": null,
            "overflow_x": null,
            "overflow_y": null,
            "padding": null,
            "right": null,
            "top": null,
            "visibility": null,
            "width": null
          }
        },
        "279a62a8a1a44b388e84ac7fdc144bd6": {
          "model_module": "@jupyter-widgets/controls",
          "model_name": "SliderStyleModel",
          "model_module_version": "1.5.0",
          "state": {
            "_model_module": "@jupyter-widgets/controls",
            "_model_module_version": "1.5.0",
            "_model_name": "SliderStyleModel",
            "_view_count": null,
            "_view_module": "@jupyter-widgets/base",
            "_view_module_version": "1.2.0",
            "_view_name": "StyleView",
            "description_width": "",
            "handle_color": null
          }
        },
        "5acb5485ce1d4f7da2516e0db473cc36": {
          "model_module": "@jupyter-widgets/base",
          "model_name": "LayoutModel",
          "model_module_version": "1.2.0",
          "state": {
            "_model_module": "@jupyter-widgets/base",
            "_model_module_version": "1.2.0",
            "_model_name": "LayoutModel",
            "_view_count": null,
            "_view_module": "@jupyter-widgets/base",
            "_view_module_version": "1.2.0",
            "_view_name": "LayoutView",
            "align_content": null,
            "align_items": null,
            "align_self": null,
            "border": null,
            "bottom": null,
            "display": null,
            "flex": null,
            "flex_flow": null,
            "grid_area": null,
            "grid_auto_columns": null,
            "grid_auto_flow": null,
            "grid_auto_rows": null,
            "grid_column": null,
            "grid_gap": null,
            "grid_row": null,
            "grid_template_areas": null,
            "grid_template_columns": null,
            "grid_template_rows": null,
            "height": null,
            "justify_content": null,
            "justify_items": null,
            "left": null,
            "margin": null,
            "max_height": null,
            "max_width": null,
            "min_height": null,
            "min_width": null,
            "object_fit": null,
            "object_position": null,
            "order": null,
            "overflow": null,
            "overflow_x": null,
            "overflow_y": null,
            "padding": null,
            "right": null,
            "top": null,
            "visibility": null,
            "width": null
          }
        },
        "d8b5fd653b1f45d8ae96289af977d499": {
          "model_module": "@jupyter-widgets/controls",
          "model_name": "DescriptionStyleModel",
          "model_module_version": "1.5.0",
          "state": {
            "_model_module": "@jupyter-widgets/controls",
            "_model_module_version": "1.5.0",
            "_model_name": "DescriptionStyleModel",
            "_view_count": null,
            "_view_module": "@jupyter-widgets/base",
            "_view_module_version": "1.2.0",
            "_view_name": "StyleView",
            "description_width": ""
          }
        },
        "ab72540bf0184e8695d76432206b85ef": {
          "model_module": "@jupyter-widgets/base",
          "model_name": "LayoutModel",
          "model_module_version": "1.2.0",
          "state": {
            "_model_module": "@jupyter-widgets/base",
            "_model_module_version": "1.2.0",
            "_model_name": "LayoutModel",
            "_view_count": null,
            "_view_module": "@jupyter-widgets/base",
            "_view_module_version": "1.2.0",
            "_view_name": "LayoutView",
            "align_content": null,
            "align_items": null,
            "align_self": null,
            "border": null,
            "bottom": null,
            "display": null,
            "flex": null,
            "flex_flow": null,
            "grid_area": null,
            "grid_auto_columns": null,
            "grid_auto_flow": null,
            "grid_auto_rows": null,
            "grid_column": null,
            "grid_gap": null,
            "grid_row": null,
            "grid_template_areas": null,
            "grid_template_columns": null,
            "grid_template_rows": null,
            "height": null,
            "justify_content": null,
            "justify_items": null,
            "left": null,
            "margin": null,
            "max_height": null,
            "max_width": null,
            "min_height": null,
            "min_width": null,
            "object_fit": null,
            "object_position": null,
            "order": null,
            "overflow": null,
            "overflow_x": null,
            "overflow_y": null,
            "padding": null,
            "right": null,
            "top": null,
            "visibility": null,
            "width": null
          }
        },
        "1da4328f7a9d49de83dae0686fc8a5dd": {
          "model_module": "@jupyter-widgets/controls",
          "model_name": "VBoxModel",
          "model_module_version": "1.5.0",
          "state": {
            "_dom_classes": [
              "widget-interact"
            ],
            "_model_module": "@jupyter-widgets/controls",
            "_model_module_version": "1.5.0",
            "_model_name": "VBoxModel",
            "_view_count": null,
            "_view_module": "@jupyter-widgets/controls",
            "_view_module_version": "1.5.0",
            "_view_name": "VBoxView",
            "box_style": "",
            "children": [
              "IPY_MODEL_82ebe73068ab4c62a811640738bc00bd",
              "IPY_MODEL_dcf1663ac13d42ec83dd4b72ff0cac96"
            ],
            "layout": "IPY_MODEL_86e71362257746ce88262e68e5c8a3e9"
          }
        },
        "82ebe73068ab4c62a811640738bc00bd": {
          "model_module": "@jupyter-widgets/controls",
          "model_name": "IntSliderModel",
          "model_module_version": "1.5.0",
          "state": {
            "_dom_classes": [],
            "_model_module": "@jupyter-widgets/controls",
            "_model_module_version": "1.5.0",
            "_model_name": "IntSliderModel",
            "_view_count": null,
            "_view_module": "@jupyter-widgets/controls",
            "_view_module_version": "1.5.0",
            "_view_name": "IntSliderView",
            "continuous_update": true,
            "description": "degree",
            "description_tooltip": null,
            "disabled": false,
            "layout": "IPY_MODEL_607fbd62d23c4982af3005eb0a73286e",
            "max": 3,
            "min": 1,
            "orientation": "horizontal",
            "readout": true,
            "readout_format": "d",
            "step": 1,
            "style": "IPY_MODEL_378d8fd32cf24e248aa255804f4c6dca",
            "value": 2
          }
        },
        "dcf1663ac13d42ec83dd4b72ff0cac96": {
          "model_module": "@jupyter-widgets/output",
          "model_name": "OutputModel",
          "model_module_version": "1.0.0",
          "state": {
            "_dom_classes": [],
            "_model_module": "@jupyter-widgets/output",
            "_model_module_version": "1.0.0",
            "_model_name": "OutputModel",
            "_view_count": null,
            "_view_module": "@jupyter-widgets/output",
            "_view_module_version": "1.0.0",
            "_view_name": "OutputView",
            "layout": "IPY_MODEL_7c233d1748c849eeb8ce30feca837347",
            "msg_id": "",
            "outputs": [
              {
                "output_type": "display_data",
                "data": {
                  "text/plain": "<Figure size 648x360 with 1 Axes>",
                  "image/png": "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\n"
                },
                "metadata": {
                  "needs_background": "light"
                }
              }
            ]
          }
        },
        "86e71362257746ce88262e68e5c8a3e9": {
          "model_module": "@jupyter-widgets/base",
          "model_name": "LayoutModel",
          "model_module_version": "1.2.0",
          "state": {
            "_model_module": "@jupyter-widgets/base",
            "_model_module_version": "1.2.0",
            "_model_name": "LayoutModel",
            "_view_count": null,
            "_view_module": "@jupyter-widgets/base",
            "_view_module_version": "1.2.0",
            "_view_name": "LayoutView",
            "align_content": null,
            "align_items": null,
            "align_self": null,
            "border": null,
            "bottom": null,
            "display": null,
            "flex": null,
            "flex_flow": null,
            "grid_area": null,
            "grid_auto_columns": null,
            "grid_auto_flow": null,
            "grid_auto_rows": null,
            "grid_column": null,
            "grid_gap": null,
            "grid_row": null,
            "grid_template_areas": null,
            "grid_template_columns": null,
            "grid_template_rows": null,
            "height": null,
            "justify_content": null,
            "justify_items": null,
            "left": null,
            "margin": null,
            "max_height": null,
            "max_width": null,
            "min_height": null,
            "min_width": null,
            "object_fit": null,
            "object_position": null,
            "order": null,
            "overflow": null,
            "overflow_x": null,
            "overflow_y": null,
            "padding": null,
            "right": null,
            "top": null,
            "visibility": null,
            "width": null
          }
        },
        "607fbd62d23c4982af3005eb0a73286e": {
          "model_module": "@jupyter-widgets/base",
          "model_name": "LayoutModel",
          "model_module_version": "1.2.0",
          "state": {
            "_model_module": "@jupyter-widgets/base",
            "_model_module_version": "1.2.0",
            "_model_name": "LayoutModel",
            "_view_count": null,
            "_view_module": "@jupyter-widgets/base",
            "_view_module_version": "1.2.0",
            "_view_name": "LayoutView",
            "align_content": null,
            "align_items": null,
            "align_self": null,
            "border": null,
            "bottom": null,
            "display": null,
            "flex": null,
            "flex_flow": null,
            "grid_area": null,
            "grid_auto_columns": null,
            "grid_auto_flow": null,
            "grid_auto_rows": null,
            "grid_column": null,
            "grid_gap": null,
            "grid_row": null,
            "grid_template_areas": null,
            "grid_template_columns": null,
            "grid_template_rows": null,
            "height": null,
            "justify_content": null,
            "justify_items": null,
            "left": null,
            "margin": null,
            "max_height": null,
            "max_width": null,
            "min_height": null,
            "min_width": null,
            "object_fit": null,
            "object_position": null,
            "order": null,
            "overflow": null,
            "overflow_x": null,
            "overflow_y": null,
            "padding": null,
            "right": null,
            "top": null,
            "visibility": null,
            "width": null
          }
        },
        "378d8fd32cf24e248aa255804f4c6dca": {
          "model_module": "@jupyter-widgets/controls",
          "model_name": "SliderStyleModel",
          "model_module_version": "1.5.0",
          "state": {
            "_model_module": "@jupyter-widgets/controls",
            "_model_module_version": "1.5.0",
            "_model_name": "SliderStyleModel",
            "_view_count": null,
            "_view_module": "@jupyter-widgets/base",
            "_view_module_version": "1.2.0",
            "_view_name": "StyleView",
            "description_width": "",
            "handle_color": null
          }
        },
        "7c233d1748c849eeb8ce30feca837347": {
          "model_module": "@jupyter-widgets/base",
          "model_name": "LayoutModel",
          "model_module_version": "1.2.0",
          "state": {
            "_model_module": "@jupyter-widgets/base",
            "_model_module_version": "1.2.0",
            "_model_name": "LayoutModel",
            "_view_count": null,
            "_view_module": "@jupyter-widgets/base",
            "_view_module_version": "1.2.0",
            "_view_name": "LayoutView",
            "align_content": null,
            "align_items": null,
            "align_self": null,
            "border": null,
            "bottom": null,
            "display": null,
            "flex": null,
            "flex_flow": null,
            "grid_area": null,
            "grid_auto_columns": null,
            "grid_auto_flow": null,
            "grid_auto_rows": null,
            "grid_column": null,
            "grid_gap": null,
            "grid_row": null,
            "grid_template_areas": null,
            "grid_template_columns": null,
            "grid_template_rows": null,
            "height": null,
            "justify_content": null,
            "justify_items": null,
            "left": null,
            "margin": null,
            "max_height": null,
            "max_width": null,
            "min_height": null,
            "min_width": null,
            "object_fit": null,
            "object_position": null,
            "order": null,
            "overflow": null,
            "overflow_x": null,
            "overflow_y": null,
            "padding": null,
            "right": null,
            "top": null,
            "visibility": null,
            "width": null
          }
        }
      }
    }
  },
  "nbformat": 4,
  "nbformat_minor": 0
}